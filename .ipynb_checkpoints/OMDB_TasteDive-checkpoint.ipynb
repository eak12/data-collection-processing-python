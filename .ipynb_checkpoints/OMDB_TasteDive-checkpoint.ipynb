{
 "cells": [
  {
   "cell_type": "markdown",
   "metadata": {},
   "source": [
    "# 24.14. Project - OMDB and TasteDive"
   ]
  },
  {
   "cell_type": "markdown",
   "metadata": {},
   "source": [
    "The below code will not work - unless you register with OMDB and TasteDive and obtain api keys, from respective websites.  Please, see below to register for the respective websites."
   ]
  },
  {
   "cell_type": "markdown",
   "metadata": {},
   "source": [
    "This project will take you through the process of mashing up data from two different APIs to make movie recommendations. The TasteDive API lets you provide a movie (or bands, TV shows, etc.) as a query input, and returns a set of related items. The OMDB API lets you provide a movie title as a query input and get back data about the movie, including scores from various review sites (Rotten Tomatoes, IMDB, etc.).\n",
    "\n",
    "You will put those two together. You will use TasteDive to get related movies for a whole list of titles. You’ll combine the resulting lists of related movies, and sort them according to their Rotten Tomatoes scores (which will require making API calls to the OMDB API.)\n",
    "\n",
    "To avoid problems with rate limits and site accessibility, we have provided a cache file with results for all the queries you need to make to both OMDB and TasteDive. Just use requests_with_caching.get() rather than requests.get(). You’re welcome to try other queries, but if you do, you will need to get an api key from OMDB.\n",
    "\n",
    "Your first task will be to fetch data from TasteDive. The documentation for the API is at https://tastedive.com/read/api.\n",
    "\n",
    "Define a function, called get_movies_from_tastedive. It should take one input parameter, a string that is the name of a movie or music artist. The function should return the 5 TasteDive results that are associated with that string; be sure to only get movies, not other kinds of media. It will be a python dictionary with just one key, ‘Similar’.\n",
    "\n",
    "Try invoking your function with the input “Black Panther”.\n",
    "\n",
    "HINT: If, when you invoke the function, the results aren’t found in the cache, you haven’t passed the exact same key-value pairs in the params dictionary as you passed to requests_with_caching.get()."
   ]
  },
  {
   "cell_type": "code",
   "execution_count": null,
   "metadata": {},
   "outputs": [],
   "source": [
    "# import statements\n",
    "import requests_with_caching\n",
    "\n",
    "\n",
    "def get_movies_from_tastedive(q_string):\n",
    "    baseurl = \"https://tastedive.com/api/similar\"\n",
    "    params_diction = {'q': q_string, 'limit':5, 'type':'movies'}\n",
    "        \n",
    "    tastdive_resp = requests_with_caching.get(baseurl, params = params_diction)\n",
    "    # Useful for debugging: print the url! Uncomment the below line to do so.\n",
    "    print(tastdive_resp.url) # Paste the result into the browser to check it out...\n",
    "    \n",
    "    return tastdive_resp.json()\n",
    "  "
   ]
  },
  {
   "cell_type": "markdown",
   "metadata": {},
   "source": [
    "Please copy the completed function from above into this active code window. Next, you will need to write a function that extracts just the list of movie titles from a dictionary returned by get_movies_from_tastedive. Call it extract_movie_titles.\n"
   ]
  },
  {
   "cell_type": "code",
   "execution_count": 1,
   "metadata": {},
   "outputs": [
    {
     "ename": "ImportError",
     "evalue": "No module named requests_with_caching",
     "output_type": "error",
     "traceback": [
      "\u001b[1;31m\u001b[0m",
      "\u001b[1;31mImportError\u001b[0mTraceback (most recent call last)",
      "\u001b[1;32m<ipython-input-1-daa8cf81f21b>\u001b[0m in \u001b[0;36m<module>\u001b[1;34m()\u001b[0m\n\u001b[0;32m      1\u001b[0m \u001b[1;31m# import statements\u001b[0m\u001b[1;33m\u001b[0m\u001b[1;33m\u001b[0m\u001b[0m\n\u001b[1;32m----> 2\u001b[1;33m \u001b[1;32mimport\u001b[0m \u001b[0mrequests_with_caching\u001b[0m\u001b[1;33m\u001b[0m\u001b[0m\n\u001b[0m\u001b[0;32m      3\u001b[0m \u001b[1;33m\u001b[0m\u001b[0m\n\u001b[0;32m      4\u001b[0m \u001b[1;31m#tastdive_key=\"350809-MRELIASA-MXOL9SNJ\"\u001b[0m\u001b[1;33m\u001b[0m\u001b[1;33m\u001b[0m\u001b[0m\n\u001b[0;32m      5\u001b[0m \u001b[1;32mdef\u001b[0m \u001b[0mget_movies_from_tastedive\u001b[0m\u001b[1;33m(\u001b[0m\u001b[0mq_string\u001b[0m\u001b[1;33m)\u001b[0m\u001b[1;33m:\u001b[0m\u001b[1;33m\u001b[0m\u001b[0m\n",
      "\u001b[1;31mImportError\u001b[0m: No module named requests_with_caching"
     ]
    }
   ],
   "source": [
    "# import statements\n",
    "import requests_with_caching\n",
    "\n",
    "#tastdive_key=\"350809-MRELIASA-MXOL9SNJ\"\n",
    "def get_movies_from_tastedive(q_string):\n",
    "    baseurl = \"https://tastedive.com/api/similar\"\n",
    "    params_diction = {'q': q_string, 'limit':5, 'type':'movies'}\n",
    "        \n",
    "    tastdive_resp = requests_with_caching.get(baseurl, params = params_diction)\n",
    "    # Useful for debugging: print the url! Uncomment the below line to do so.\n",
    "    print(tastdive_resp.url) # Paste the result into the browser to check it out...\n",
    "    \n",
    "    return tastdive_resp.json()\n",
    "  \n",
    "\n",
    "def extract_movie_titles(d_str):\n",
    "        \n",
    "    list_d_movie_title = d_str['Similar']['Results']\n",
    "    \n",
    "    list_titles =[d['Name'] for d in list_d_movie_title]\n",
    "        \n",
    "    return list_titles\n"
   ]
  },
  {
   "cell_type": "markdown",
   "metadata": {},
   "source": [
    "Please copy the completed functions from the two code windows above into this active code window. Next, you’ll write a function, called get_related_titles. It takes a list of movie titles as input. It gets five related movies for each from TasteDive, extracts the titles for all of them, and combines them all into a single list. Don’t include the same movie twice."
   ]
  },
  {
   "cell_type": "code",
   "execution_count": null,
   "metadata": {},
   "outputs": [],
   "source": [
    "# import statements\n",
    "import requests_with_caching\n",
    "\n",
    "#tastdive_key=\"350809-MRELIASA-MXOL9SNJ\"\n",
    "def get_movies_from_tastedive(q_string):\n",
    "    baseurl = \"https://tastedive.com/api/similar\"\n",
    "    params_diction = {'q': q_string, 'limit':5, 'type':'movies'}\n",
    "        \n",
    "    tastdive_resp = requests_with_caching.get(baseurl, params = params_diction)\n",
    "    # Useful for debugging: print the url! Uncomment the below line to do so.\n",
    "    print(tastdive_resp.url) # Paste the result into the browser to check it out...\n",
    "    \n",
    "    return tastdive_resp.json()\n",
    "  \n",
    "\n",
    "def extract_movie_titles(d_str):\n",
    "        \n",
    "    list_d_movie_title = d_str['Similar']['Results']\n",
    "    \n",
    "    list_titles =[d['Name'] for d in list_d_movie_title]\n",
    "        \n",
    "    return list_titles\n",
    "\n",
    "\n",
    "def get_related_titles(list_movie_titles):\n",
    "    #get a list of dictionaries of related movie titles\n",
    "    list_five_related_dic = [get_movies_from_tastedive(movie) for movie in list_movie_titles]\n",
    "    #get the movie titles from the above (see previous line) list dictionaries\n",
    "    list_five_related_movies =[extract_movie_titles(d) for d in list_five_related_dic]\n",
    "    #get the lower level of list of movie titles\n",
    "    #need empty list - lower_list_five_related_movies - initially\n",
    "    lower_list_five_related_movies=[]\n",
    "    lower_list_five_related_movies = [title_movie for title_list in list_five_related_movies for title_movie in title_list if title_list not in lower_list_five_related_movies]\n",
    "\n",
    "    return lower_list_five_related_movies"
   ]
  },
  {
   "cell_type": "markdown",
   "metadata": {},
   "source": [
    "Your next task will be to fetch data from OMDB. The documentation for the API is at https://www.omdbapi.com/\n",
    "\n",
    "Define a function called get_movie_data. It takes in one parameter which is a string that should represent the title of a movie you want to search. The function should return a dictionary with information about that movie.\n",
    "\n",
    "Again, use requests_with_caching.get(). For the queries on movies that are already in the cache, you won’t need an api key. (If you want to run queries for other movies, you’ll have to get an api key from OMDB)."
   ]
  },
  {
   "cell_type": "code",
   "execution_count": null,
   "metadata": {},
   "outputs": [],
   "source": [
    "# import statements\n",
    "import requests_with_caching\n",
    "\n",
    "def get_movie_data(title_movie_str):\n",
    "    baseurl = \"http://www.omdbapi.com/\"\n",
    "    params_diction = {'t': title_movie_str, 'r':'json'}\n",
    "    \n",
    "    ombapi_resp = requests_with_caching.get(baseurl, params = params_diction)\n",
    "    print(ombapi_resp.url) # Paste the result into the browser to check it out...\n",
    "    \n",
    "    return ombapi_resp.json()"
   ]
  },
  {
   "cell_type": "markdown",
   "metadata": {},
   "source": [
    "Please copy the completed function from above into this active code window. Now write a function called get_movie_rating. It takes an OMDB dictionary result for one movie and extracts the Rotten Tomatoes rating as an integer. For example, if given the OMDB dictionary for “Black Panther”, it would return 97. If there is no Rotten Tomatoes rating, return 0."
   ]
  },
  {
   "cell_type": "code",
   "execution_count": null,
   "metadata": {},
   "outputs": [],
   "source": [
    "# import statements\n",
    "import requests_with_caching\n",
    "\n",
    "def get_movie_data(title_movie_str):\n",
    "    baseurl = \"http://www.omdbapi.com/\"\n",
    "    params_diction = {'t': title_movie_str, 'r':'json'}\n",
    "    \n",
    "    ombapi_resp = requests_with_caching.get(baseurl, params = params_diction)\n",
    "    print(ombapi_resp.url) # Paste the result into the browser to check it out...\n",
    "    \n",
    "    return ombapi_resp.json()\n",
    "\n",
    "def get_movie_rating(dic_movie):\n",
    "    #get dictionary for key 'Rating'\n",
    "    list_dic_rating = dic_movie['Ratings']\n",
    "    #for each dictionary see if rated by rotten tomatoes, if so give value of rating\n",
    "    rotton_tomatoes_integer_rating_lst = [rating['Value'] for rating in list_dic_rating if rating['Source'] in ['Rotten Tomatoes']]\n",
    "    #return the tomatoes rating, and if there is no rotten tomatoes rating, return 0\n",
    "    if len(rotton_tomatoes_integer_rating_lst)==0:\n",
    "        rotton_tomatoes_integer_rating=0\n",
    "    else:\n",
    "        rotton_tomatoes_integer_rating = int(rotton_tomatoes_integer_rating_lst[0][:-1])\n",
    "    return rotton_tomatoes_integer_rating"
   ]
  },
  {
   "cell_type": "markdown",
   "metadata": {},
   "source": [
    "Now, you’ll put it all together. Don’t forget to copy all of the functions that you have previously defined into this code window. Define a function get_sorted_recommendations. It takes a list of movie titles as an input. It returns a sorted list of related movie titles as output, up to five related movies for each input movie title. The movies should be sorted in descending order by their Rotten Tomatoes rating, as returned by the get_movie_rating function."
   ]
  },
  {
   "cell_type": "code",
   "execution_count": null,
   "metadata": {},
   "outputs": [],
   "source": [
    "import requests_with_caching\n",
    "\n",
    "def get_movies_from_tastedive(q_string):\n",
    "    baseurl = \"https://tastedive.com/api/similar\"\n",
    "    params_diction = {'q': q_string, 'limit':5, 'type':'movies'}\n",
    "        \n",
    "    tastdive_resp = requests_with_caching.get(baseurl, params = params_diction)\n",
    "    # Useful for debugging: print the url! Uncomment the below line to do so.\n",
    "    print(tastdive_resp.url) # Paste the result into the browser to check it out...\n",
    "    \n",
    "    return tastdive_resp.json()\n",
    "  \n",
    "\n",
    "def extract_movie_titles(d_str):\n",
    "        \n",
    "    list_d_movie_title = d_str['Similar']['Results']\n",
    "    \n",
    "    list_titles =[d['Name'] for d in list_d_movie_title]\n",
    "        \n",
    "    return list_titles\n",
    "\n",
    "\n",
    "def get_related_titles(list_movie_titles):\n",
    "    #get a list of dictionaries of related movie titles\n",
    "    list_five_related_dic = [get_movies_from_tastedive(movie) for movie in list_movie_titles]\n",
    "    #get the movie titles from the above (see previous line) list dictionaries\n",
    "    list_five_related_movies =[extract_movie_titles(d) for d in list_five_related_dic]\n",
    "    #get the lower level of list of movie titles\n",
    "    lower_list_five_related_movies=[]\n",
    "    lower_list_five_related_movies = [title_movie for title_list in list_five_related_movies for title_movie in title_list if title_list not in lower_list_five_related_movies]\n",
    "\n",
    "    return lower_list_five_related_movies\n",
    "\n",
    "def get_movie_data(title_movie_str):\n",
    "    baseurl = \"http://www.omdbapi.com/\"\n",
    "    params_diction = {'t': title_movie_str, 'r':'json'}\n",
    "    \n",
    "    ombapi_resp = requests_with_caching.get(baseurl, params = params_diction)\n",
    "    print(ombapi_resp.url) # Paste the result into the browser to check it out...\n",
    "    \n",
    "    return ombapi_resp.json()\n",
    "\n",
    "def get_movie_rating(dic_movie):\n",
    "    #get dictionary for key 'Rating'\n",
    "    list_dic_rating = dic_movie['Ratings']\n",
    "    #for each dictionary see if rated by rotten tomatoes, if so give value of rating\n",
    "    rotton_tomatoes_integer_rating_lst = [rating['Value'] for rating in list_dic_rating if rating['Source'] in ['Rotten Tomatoes']]\n",
    "    #return the tomatoes rating, and if there is no rotten tomatoes rating, return 0\n",
    "    if len(rotton_tomatoes_integer_rating_lst)==0:\n",
    "        rotton_tomatoes_integer_rating=0\n",
    "    else:\n",
    "        rotton_tomatoes_integer_rating = int(rotton_tomatoes_integer_rating_lst[0][:-1])\n",
    "    return rotton_tomatoes_integer_rating\n",
    "\n",
    "def get_sorted_recommendations(list_movie_titles):\n",
    "    #get related_movies\n",
    "    related_movies = get_related_titles(list_movie_titles)\n",
    "    #get list of dictionary for each related movie\n",
    "    movie_dic_lst =[get_movie_data(related_movie) for related_movie in related_movies]\n",
    "    #sort the related movie dic\n",
    "    sort_related_movies_dic = sorted(movie_dic_lst, key=get_movie_rating, reverse=True)\n",
    "    \n",
    "    \n",
    "    #print(json.dumps(sort_related_movies_dic, indent=2))\n",
    "    #sort the extract the movie title from each dictionary in sort_related_movies_dic\n",
    "    sorted_related_movies =[d['Title'] for d in sort_related_movies_dic]\n",
    "    \n",
    "    return sorted_related_movies"
   ]
  }
 ],
 "metadata": {
  "kernelspec": {
   "display_name": "Python 2",
   "language": "python",
   "name": "python2"
  },
  "language_info": {
   "codemirror_mode": {
    "name": "ipython",
    "version": 2
   },
   "file_extension": ".py",
   "mimetype": "text/x-python",
   "name": "python",
   "nbconvert_exporter": "python",
   "pygments_lexer": "ipython2",
   "version": "2.7.16"
  }
 },
 "nbformat": 4,
 "nbformat_minor": 2
}
