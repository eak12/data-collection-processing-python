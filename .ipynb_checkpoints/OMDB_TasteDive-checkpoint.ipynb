{
 "cells": [
  {
   "cell_type": "markdown",
   "metadata": {},
   "source": [
    "# 24.14. Project - OMDB and TasteDive"
   ]
  },
  {
   "cell_type": "markdown",
   "metadata": {},
   "source": [
    "Note\n",
    "\n",
    "The below code will not work - unless you copy and paste the code in the runestone environment: https://fopp.umsi.education/runestone/static/fopp/InternetAPIs/chapterProject.html\n",
    "\n",
    "Alternatively, register with OMDB and TasteDive and obtain api keys, from respective websites.  Please, see below about how to register for the respective websites.\n"
   ]
  },
  {
   "cell_type": "markdown",
   "metadata": {},
   "source": [
    "Note\n",
    "\n",
    "The requests_with_caching module (see appendix 2 below) is not available outside the runestone environment (see previous link above); in a full python environment you won’t be able to install a requests_with_caching module. But you can copy the code and make it work outside the textbook environment."
   ]
  },
  {
   "cell_type": "markdown",
   "metadata": {},
   "source": [
    "## Synopsis"
   ]
  },
  {
   "cell_type": "markdown",
   "metadata": {},
   "source": [
    "This juypter document is a step-by-step tutorial where the TasteDive and OMDM rest api have been used to find related movies. I ordered - in descending order - the related movies using their rottom tomatoes scores.\n",
    "\n",
    "However, rather than live - from the above rest api(s) - raw data has been used from - permanent_cache.txt (see appendix 1).\n",
    "\n",
    "The **goal** is to obtain - for each movie of a list - a list of related movies that have been sorted by the **rotton tomatoes score**.\n",
    "\n",
    "The tasks are:\n",
    "\n",
    " - task 1 - pass the list of movies to the function - get_related_titles() - and get related movies for each movie in the list.\n",
    " - task 2 - for a list of related movies, get a list of information (dictionaries) - where the dictionary includes the rotton tomatoes scores.\n",
    " - task 3 - sort the dictionaries (see step 2 above) in a list - using the rottom tomatoes scores via the 'get_movie_rating()' function.\n",
    " - task 4 - Obtain the list of movie titles from the list of sorted dictionaries - which sorted by the **rotton tomatoe score**.  "
   ]
  },
  {
   "cell_type": "markdown",
   "metadata": {},
   "source": [
    "### Step 1"
   ]
  },
  {
   "cell_type": "markdown",
   "metadata": {},
   "source": [
    "This project will take you through the process of mashing up data from two different APIs to make movie recommendations. The TasteDive API lets you provide a movie (or bands, TV shows, etc.) as a query input, and returns a set of related items. The OMDB API lets you provide a movie title as a query input and get back data about the movie, including scores from various review sites (Rotten Tomatoes, IMDB, etc.).\n",
    "\n",
    "You will put those two together. You will use TasteDive to get related movies for a whole list of titles. You’ll combine the resulting lists of related movies, and sort them according to their Rotten Tomatoes scores (which will require making API calls to the OMDB API.)\n",
    "\n",
    "To avoid problems with rate limits and site accessibility, we have provided a cache file with results for all the queries you need to make to both OMDB and TasteDive. Just use requests_with_caching.get() rather than requests.get(). You’re welcome to try other queries, but if you do, you will need to get an api key from OMDB.\n",
    "\n",
    "Your first task will be to fetch data from TasteDive. The documentation for the API is at https://tastedive.com/read/api.\n",
    "\n",
    "Define a function, called get_movies_from_tastedive. It should take one input parameter, a string that is the name of a movie or music artist. The function should return the 5 TasteDive results that are associated with that string; be sure to only get movies, not other kinds of media. It will be a python dictionary with just one key, ‘Similar’.\n",
    "\n",
    "Try invoking your function with the input “Black Panther”.\n",
    "\n",
    "HINT: If, when you invoke the function, the results aren’t found in the cache, you haven’t passed the exact same key-value pairs in the params dictionary as you passed to requests_with_caching.get()."
   ]
  },
  {
   "cell_type": "code",
   "execution_count": null,
   "metadata": {},
   "outputs": [],
   "source": [
    "# import statements\n",
    "import requests_with_caching\n",
    "\n",
    "\n",
    "def get_movies_from_tastedive(q_string):\n",
    "    baseurl = \"https://tastedive.com/api/similar\"\n",
    "    params_diction = {'q': q_string, 'limit':5, 'type':'movies'}\n",
    "        \n",
    "    tastdive_resp = requests_with_caching.get(baseurl, params = params_diction)\n",
    "    # Useful for debugging: print the url! Uncomment the below line to do so.\n",
    "    print(tastdive_resp.url) # Paste the result into the browser to check it out...\n",
    "    \n",
    "    return tastdive_resp.json()\n",
    "  "
   ]
  },
  {
   "cell_type": "markdown",
   "metadata": {},
   "source": [
    "### Step 2"
   ]
  },
  {
   "cell_type": "markdown",
   "metadata": {},
   "source": [
    "Please copy the completed function from above into this active code window. Next, you will need to write a function that extracts just the list of movie titles from a dictionary returned by get_movies_from_tastedive. Call it extract_movie_titles.\n"
   ]
  },
  {
   "cell_type": "code",
   "execution_count": 1,
   "metadata": {},
   "outputs": [
    {
     "ename": "ImportError",
     "evalue": "No module named requests_with_caching",
     "output_type": "error",
     "traceback": [
      "\u001b[1;31m\u001b[0m",
      "\u001b[1;31mImportError\u001b[0mTraceback (most recent call last)",
      "\u001b[1;32m<ipython-input-1-daa8cf81f21b>\u001b[0m in \u001b[0;36m<module>\u001b[1;34m()\u001b[0m\n\u001b[0;32m      1\u001b[0m \u001b[1;31m# import statements\u001b[0m\u001b[1;33m\u001b[0m\u001b[1;33m\u001b[0m\u001b[0m\n\u001b[1;32m----> 2\u001b[1;33m \u001b[1;32mimport\u001b[0m \u001b[0mrequests_with_caching\u001b[0m\u001b[1;33m\u001b[0m\u001b[0m\n\u001b[0m\u001b[0;32m      3\u001b[0m \u001b[1;33m\u001b[0m\u001b[0m\n\u001b[0;32m      4\u001b[0m \u001b[1;31m#tastdive_key=\"350809-MRELIASA-MXOL9SNJ\"\u001b[0m\u001b[1;33m\u001b[0m\u001b[1;33m\u001b[0m\u001b[0m\n\u001b[0;32m      5\u001b[0m \u001b[1;32mdef\u001b[0m \u001b[0mget_movies_from_tastedive\u001b[0m\u001b[1;33m(\u001b[0m\u001b[0mq_string\u001b[0m\u001b[1;33m)\u001b[0m\u001b[1;33m:\u001b[0m\u001b[1;33m\u001b[0m\u001b[0m\n",
      "\u001b[1;31mImportError\u001b[0m: No module named requests_with_caching"
     ]
    }
   ],
   "source": [
    "# import statements\n",
    "import requests_with_caching\n",
    "\n",
    "#tastdive_key=\"350809-MRELIASA-MXOL9SNJ\"\n",
    "def get_movies_from_tastedive(q_string):\n",
    "    baseurl = \"https://tastedive.com/api/similar\"\n",
    "    params_diction = {'q': q_string, 'limit':5, 'type':'movies'}\n",
    "        \n",
    "    tastdive_resp = requests_with_caching.get(baseurl, params = params_diction)\n",
    "    # Useful for debugging: print the url! Uncomment the below line to do so.\n",
    "    print(tastdive_resp.url) # Paste the result into the browser to check it out...\n",
    "    \n",
    "    return tastdive_resp.json()\n",
    "  \n",
    "\n",
    "def extract_movie_titles(d_str):\n",
    "        \n",
    "    list_d_movie_title = d_str['Similar']['Results']\n",
    "    \n",
    "    list_titles =[d['Name'] for d in list_d_movie_title]\n",
    "        \n",
    "    return list_titles\n"
   ]
  },
  {
   "cell_type": "markdown",
   "metadata": {},
   "source": [
    "### Step 3"
   ]
  },
  {
   "cell_type": "markdown",
   "metadata": {},
   "source": [
    "Please copy the completed functions from the two code windows above into this active code window. Next, you’ll write a function, called get_related_titles. It takes a list of movie titles as input. It gets five related movies for each from TasteDive, extracts the titles for all of them, and combines them all into a single list. Don’t include the same movie twice."
   ]
  },
  {
   "cell_type": "code",
   "execution_count": null,
   "metadata": {},
   "outputs": [],
   "source": [
    "# import statements\n",
    "import requests_with_caching\n",
    "\n",
    "#tastdive_key=\"350809-MRELIASA-MXOL9SNJ\"\n",
    "def get_movies_from_tastedive(q_string):\n",
    "    baseurl = \"https://tastedive.com/api/similar\"\n",
    "    params_diction = {'q': q_string, 'limit':5, 'type':'movies'}\n",
    "        \n",
    "    tastdive_resp = requests_with_caching.get(baseurl, params = params_diction)\n",
    "    # Useful for debugging: print the url! Uncomment the below line to do so.\n",
    "    print(tastdive_resp.url) # Paste the result into the browser to check it out...\n",
    "    \n",
    "    return tastdive_resp.json()\n",
    "  \n",
    "\n",
    "def extract_movie_titles(d_str):\n",
    "        \n",
    "    list_d_movie_title = d_str['Similar']['Results']\n",
    "    \n",
    "    list_titles =[d['Name'] for d in list_d_movie_title]\n",
    "        \n",
    "    return list_titles\n",
    "\n",
    "\n",
    "def get_related_titles(list_movie_titles):\n",
    "    #get a list of dictionaries of related movie titles\n",
    "    list_five_related_dic = [get_movies_from_tastedive(movie) for movie in list_movie_titles]\n",
    "    #get the movie titles from the above (see previous line) list dictionaries\n",
    "    list_five_related_movies =[extract_movie_titles(d) for d in list_five_related_dic]\n",
    "    #get the lower level of list of movie titles\n",
    "    #need empty list - lower_list_five_related_movies - initially\n",
    "    lower_list_five_related_movies=[]\n",
    "    lower_list_five_related_movies = [title_movie for title_list in list_five_related_movies for title_movie in title_list if title_list not in lower_list_five_related_movies]\n",
    "\n",
    "    return lower_list_five_related_movies"
   ]
  },
  {
   "cell_type": "markdown",
   "metadata": {},
   "source": [
    "### Step 4"
   ]
  },
  {
   "cell_type": "markdown",
   "metadata": {},
   "source": [
    "Your next task will be to fetch data from OMDB. The documentation for the API is at https://www.omdbapi.com/\n",
    "\n",
    "Define a function called get_movie_data. It takes in one parameter which is a string that should represent the title of a movie you want to search. The function should return a dictionary with information about that movie.\n",
    "\n",
    "Again, use requests_with_caching.get(). For the queries on movies that are already in the cache, you won’t need an api key. (If you want to run queries for other movies, you’ll have to get an api key from OMDB)."
   ]
  },
  {
   "cell_type": "code",
   "execution_count": null,
   "metadata": {},
   "outputs": [],
   "source": [
    "# import statements\n",
    "import requests_with_caching\n",
    "\n",
    "def get_movie_data(title_movie_str):\n",
    "    baseurl = \"http://www.omdbapi.com/\"\n",
    "    params_diction = {'t': title_movie_str, 'r':'json'}\n",
    "    \n",
    "    ombapi_resp = requests_with_caching.get(baseurl, params = params_diction)\n",
    "    print(ombapi_resp.url) # Paste the result into the browser to check it out...\n",
    "    \n",
    "    return ombapi_resp.json()"
   ]
  },
  {
   "cell_type": "markdown",
   "metadata": {},
   "source": [
    "### Step 5"
   ]
  },
  {
   "cell_type": "markdown",
   "metadata": {},
   "source": [
    "Please copy the completed function from above into this active code window. Now write a function called get_movie_rating. It takes an OMDB dictionary result for one movie and extracts the Rotten Tomatoes rating as an integer. For example, if given the OMDB dictionary for “Black Panther”, it would return 97. If there is no Rotten Tomatoes rating, return 0."
   ]
  },
  {
   "cell_type": "code",
   "execution_count": null,
   "metadata": {},
   "outputs": [],
   "source": [
    "# import statements\n",
    "import requests_with_caching\n",
    "\n",
    "def get_movie_data(title_movie_str):\n",
    "    baseurl = \"http://www.omdbapi.com/\"\n",
    "    params_diction = {'t': title_movie_str, 'r':'json'}\n",
    "    \n",
    "    ombapi_resp = requests_with_caching.get(baseurl, params = params_diction)\n",
    "    print(ombapi_resp.url) # Paste the result into the browser to check it out...\n",
    "    \n",
    "    return ombapi_resp.json()\n",
    "\n",
    "def get_movie_rating(dic_movie):\n",
    "    #get dictionary for key 'Rating'\n",
    "    list_dic_rating = dic_movie['Ratings']\n",
    "    #for each dictionary see if rated by rotten tomatoes, if so give value of rating\n",
    "    rotton_tomatoes_integer_rating_lst = [rating['Value'] for rating in list_dic_rating if rating['Source'] in ['Rotten Tomatoes']]\n",
    "    #return the tomatoes rating, and if there is no rotten tomatoes rating, return 0\n",
    "    if len(rotton_tomatoes_integer_rating_lst)==0:\n",
    "        rotton_tomatoes_integer_rating=0\n",
    "    else:\n",
    "        rotton_tomatoes_integer_rating = int(rotton_tomatoes_integer_rating_lst[0][:-1])\n",
    "    return rotton_tomatoes_integer_rating"
   ]
  },
  {
   "cell_type": "markdown",
   "metadata": {},
   "source": [
    "### Step 6"
   ]
  },
  {
   "cell_type": "markdown",
   "metadata": {},
   "source": [
    "Now, you’ll put it all together. Don’t forget to copy all of the functions that you have previously defined into this code window. Define a function get_sorted_recommendations. It takes a list of movie titles as an input. It returns a sorted list of related movie titles as output, up to five related movies for each input movie title. The movies should be sorted in descending order by their Rotten Tomatoes rating, as returned by the get_movie_rating function."
   ]
  },
  {
   "cell_type": "code",
   "execution_count": null,
   "metadata": {},
   "outputs": [],
   "source": [
    "import requests_with_caching\n",
    "\n",
    "def get_movies_from_tastedive(q_string):\n",
    "    baseurl = \"https://tastedive.com/api/similar\"\n",
    "    params_diction = {'q': q_string, 'limit':5, 'type':'movies'}\n",
    "        \n",
    "    tastdive_resp = requests_with_caching.get(baseurl, params = params_diction)\n",
    "    # Useful for debugging: print the url! Uncomment the below line to do so.\n",
    "    print(tastdive_resp.url) # Paste the result into the browser to check it out...\n",
    "    \n",
    "    return tastdive_resp.json()\n",
    "  \n",
    "\n",
    "def extract_movie_titles(d_str):\n",
    "        \n",
    "    list_d_movie_title = d_str['Similar']['Results']\n",
    "    \n",
    "    list_titles =[d['Name'] for d in list_d_movie_title]\n",
    "        \n",
    "    return list_titles\n",
    "\n",
    "\n",
    "def get_related_titles(list_movie_titles):\n",
    "    #get a list of dictionaries of related movie titles\n",
    "    list_five_related_dic = [get_movies_from_tastedive(movie) for movie in list_movie_titles]\n",
    "    #get the movie titles from the above (see previous line) list dictionaries\n",
    "    list_five_related_movies =[extract_movie_titles(d) for d in list_five_related_dic]\n",
    "    #get the lower level of list of movie titles\n",
    "    lower_list_five_related_movies=[]\n",
    "    lower_list_five_related_movies = [title_movie for title_list in list_five_related_movies for title_movie in title_list if title_list not in lower_list_five_related_movies]\n",
    "\n",
    "    return lower_list_five_related_movies\n",
    "\n",
    "def get_movie_data(title_movie_str):\n",
    "    baseurl = \"http://www.omdbapi.com/\"\n",
    "    params_diction = {'t': title_movie_str, 'r':'json'}\n",
    "    \n",
    "    ombapi_resp = requests_with_caching.get(baseurl, params = params_diction)\n",
    "    print(ombapi_resp.url) # Paste the result into the browser to check it out...\n",
    "    \n",
    "    return ombapi_resp.json()\n",
    "\n",
    "def get_movie_rating(dic_movie):\n",
    "    #get dictionary for key 'Rating'\n",
    "    list_dic_rating = dic_movie['Ratings']\n",
    "    #for each dictionary see if rated by rotten tomatoes, if so give value of rating\n",
    "    rotton_tomatoes_integer_rating_lst = [rating['Value'] for rating in list_dic_rating if rating['Source'] in ['Rotten Tomatoes']]\n",
    "    #return the tomatoes rating, and if there is no rotten tomatoes rating, return 0\n",
    "    if len(rotton_tomatoes_integer_rating_lst)==0:\n",
    "        rotton_tomatoes_integer_rating=0\n",
    "    else:\n",
    "        rotton_tomatoes_integer_rating = int(rotton_tomatoes_integer_rating_lst[0][:-1])\n",
    "    return rotton_tomatoes_integer_rating\n",
    "\n",
    "def get_sorted_recommendations(list_movie_titles):\n",
    "    #get related_movies\n",
    "    related_movies = get_related_titles(list_movie_titles)\n",
    "    #get list of dictionary for each related movie\n",
    "    movie_dic_lst =[get_movie_data(related_movie) for related_movie in related_movies]\n",
    "    #sort the related movie dic\n",
    "    sort_related_movies_dic = sorted(movie_dic_lst, key=get_movie_rating, reverse=True)\n",
    "    \n",
    "    \n",
    "    #print(json.dumps(sort_related_movies_dic, indent=2))\n",
    "    #sort the extract the movie title from each dictionary in sort_related_movies_dic\n",
    "    sorted_related_movies =[d['Title'] for d in sort_related_movies_dic]\n",
    "    \n",
    "    return sorted_related_movies"
   ]
  },
  {
   "cell_type": "markdown",
   "metadata": {},
   "source": [
    "# Appendix 1"
   ]
  },
  {
   "cell_type": "markdown",
   "metadata": {},
   "source": [
    "Below is permanent_cache.txt (raw data) which the function requests_with_caching.get() looks inside.  If it cannot find it there, you must register for the rest api of OMDB and TasteDive - and get api keys, respectively.  This api must be added to the keys inside the function requests_with_caching.get() - added to the second argument whose type is a dictionery."
   ]
  },
  {
   "cell_type": "markdown",
   "metadata": {},
   "source": [
    "{\n",
    "  \"https://tastedive.com/api/similark-249694-JazzComp-89VNLWSG_limit-10_q-Black Panther_type-movies\": \"{\\\"Similar\\\": {\\\"Info\\\": [{\\\"Name\\\": \\\"Black Panther\\\", \\\"Type\\\": \\\"movie\\\"}], \\\"Results\\\": [{\\\"Name\\\": \\\"Avengers: Infinity War\\\", \\\"Type\\\": \\\"movie\\\"}, {\\\"Name\\\": \\\"Captain Marvel\\\", \\\"Type\\\": \\\"movie\\\"}, {\\\"Name\\\": \\\"Ant-Man And The Wasp\\\", \\\"Type\\\": \\\"movie\\\"}, {\\\"Name\\\": \\\"The Fate Of The Furious\\\", \\\"Type\\\": \\\"movie\\\"}, {\\\"Name\\\": \\\"Deadpool 2\\\", \\\"Type\\\": \\\"movie\\\"}, {\\\"Name\\\": \\\"Ready Player One\\\", \\\"Type\\\": \\\"movie\\\"}, {\\\"Name\\\": \\\"Jumanji: Welcome To The Jungle\\\", \\\"Type\\\": \\\"movie\\\"}, {\\\"Name\\\": \\\"Solo: A Star Wars Story\\\", \\\"Type\\\": \\\"movie\\\"}, {\\\"Name\\\": \\\"Independence Day: Resurgence\\\", \\\"Type\\\": \\\"movie\\\"}, {\\\"Name\\\": \\\"Thor: Ragnarok\\\", \\\"Type\\\": \\\"movie\\\"}]}}\",\n",
    "  \"http://www.omdbapi.com/apikey-d9ef00e2_r-json_t-Pirates Of The Caribbean: On Stranger Tides\": \"{\\\"Title\\\":\\\"Pirates of the Caribbean: On Stranger Tides\\\",\\\"Year\\\":\\\"2011\\\",\\\"Rated\\\":\\\"PG-13\\\",\\\"Released\\\":\\\"20 May 2011\\\",\\\"Runtime\\\":\\\"136 min\\\",\\\"Genre\\\":\\\"Action, Adventure, Fantasy\\\",\\\"Director\\\":\\\"Rob Marshall\\\",\\\"Writer\\\":\\\"Ted Elliott (screenplay), Terry Rossio (screenplay), Ted Elliott (screen story), Terry Rossio (screen story), Ted Elliott (characters), Terry Rossio (characters), Stuart Beattie (characters), Jay Wolpert (characters), Tim Powers (novel)\\\",\\\"Actors\\\":\\\"Johnny Depp, Pen\\u00e9lope Cruz, Geoffrey Rush, Ian McShane\\\",\\\"Plot\\\":\\\"Jack Sparrow and Barbossa embark on a quest to find the elusive fountain of youth, only to discover that Blackbeard and his daughter are after it too.\\\",\\\"Language\\\":\\\"English, Spanish\\\",\\\"Country\\\":\\\"USA, UK\\\",\\\"Awards\\\":\\\"2 wins & 31 nominations.\\\",\\\"Poster\\\":\\\"https://m.media-amazon.com/images/M/MV5BMjE5MjkwODI3Nl5BMl5BanBnXkFtZTcwNjcwMDk4NA@@._V1_SX300.jpg\\\",\\\"Ratings\\\":[{\\\"Source\\\":\\\"Internet Movie Database\\\",\\\"Value\\\":\\\"6.6/10\\\"},{\\\"Source\\\":\\\"Rotten Tomatoes\\\",\\\"Value\\\":\\\"32%\\\"},{\\\"Source\\\":\\\"Metacritic\\\",\\\"Value\\\":\\\"45/100\\\"}],\\\"Metascore\\\":\\\"45\\\",\\\"imdbRating\\\":\\\"6.6\\\",\\\"imdbVotes\\\":\\\"431,511\\\",\\\"imdbID\\\":\\\"tt1298650\\\",\\\"Type\\\":\\\"movie\\\",\\\"DVD\\\":\\\"18 Oct 2011\\\",\\\"BoxOffice\\\":\\\"$241,063,875\\\",\\\"Production\\\":\\\"Walt Disney Pictures\\\",\\\"Website\\\":\\\"http://Disney.com/Pirates\\\",\\\"Response\\\":\\\"True\\\"}\",\n",
    "  \"https://tastedive.com/api/similark-249694-JazzComp-89VNLWSG_limit-5_q-Black Panther\": \"{\\\"Similar\\\": {\\\"Info\\\": [{\\\"Name\\\": \\\"Black Panther\\\", \\\"Type\\\": \\\"movie\\\"}], \\\"Results\\\": [{\\\"Name\\\": \\\"Avengers: Infinity War\\\", \\\"Type\\\": \\\"movie\\\"}, {\\\"Name\\\": \\\"Captain Marvel\\\", \\\"Type\\\": \\\"movie\\\"}, {\\\"Name\\\": \\\"Ant-Man And The Wasp\\\", \\\"Type\\\": \\\"movie\\\"}, {\\\"Name\\\": \\\"The Fate Of The Furious\\\", \\\"Type\\\": \\\"movie\\\"}, {\\\"Name\\\": \\\"Deadpool 2\\\", \\\"Type\\\": \\\"movie\\\"}]}}\",\n",
    "  \"https://tastedive.com/api/similark-249694-JazzComp-89VNLWSG_limit-5_q-Bridesmaids_type-movies\": \"{\\\"Similar\\\": {\\\"Info\\\": [{\\\"Name\\\": \\\"Bridesmaids\\\", \\\"Type\\\": \\\"movie\\\"}], \\\"Results\\\": [{\\\"Name\\\": \\\"Baby Mama\\\", \\\"Type\\\": \\\"movie\\\"}, {\\\"Name\\\": \\\"The Five-Year Engagement\\\", \\\"Type\\\": \\\"movie\\\"}, {\\\"Name\\\": \\\"Date Night\\\", \\\"Type\\\": \\\"movie\\\"}, {\\\"Name\\\": \\\"Bachelorette\\\", \\\"Type\\\": \\\"movie\\\"}, {\\\"Name\\\": \\\"Bad Teacher\\\", \\\"Type\\\": \\\"movie\\\"}]}}\",\n",
    "  \"http://www.omdbapi.com/apikey-d9ef00e2_r-json_t-Deadpool 2\": \"{\\\"Title\\\":\\\"Deadpool 2\\\",\\\"Year\\\":\\\"2018\\\",\\\"Rated\\\":\\\"R\\\",\\\"Released\\\":\\\"18 May 2018\\\",\\\"Runtime\\\":\\\"119 min\\\",\\\"Genre\\\":\\\"Action, Adventure, Comedy, Sci-Fi\\\",\\\"Director\\\":\\\"David Leitch\\\",\\\"Writer\\\":\\\"Rhett Reese, Paul Wernick, Ryan Reynolds\\\",\\\"Actors\\\":\\\"Ryan Reynolds, Josh Brolin, Morena Baccarin, Julian Dennison\\\",\\\"Plot\\\":\\\"Foul-mouthed mutant mercenary Wade Wilson (AKA. Deadpool), brings together a team of fellow mutant rogues to protect a young boy with supernatural abilities from the brutal, time-traveling cyborg, Cable.\\\",\\\"Language\\\":\\\"English\\\",\\\"Country\\\":\\\"USA\\\",\\\"Awards\\\":\\\"N/A\\\",\\\"Poster\\\":\\\"https://m.media-amazon.com/images/M/MV5BNjk1Njk3YjctMmMyYS00Y2I4LThhMzktN2U0MTMyZTFlYWQ5XkEyXkFqcGdeQXVyODM2ODEzMDA@._V1_SX300.jpg\\\",\\\"Ratings\\\":[{\\\"Source\\\":\\\"Internet Movie Database\\\",\\\"Value\\\":\\\"7.8/10\\\"},{\\\"Source\\\":\\\"Rotten Tomatoes\\\",\\\"Value\\\":\\\"82%\\\"},{\\\"Source\\\":\\\"Metacritic\\\",\\\"Value\\\":\\\"66/100\\\"}],\\\"Metascore\\\":\\\"66\\\",\\\"imdbRating\\\":\\\"7.8\\\",\\\"imdbVotes\\\":\\\"294,178\\\",\\\"imdbID\\\":\\\"tt5463162\\\",\\\"Type\\\":\\\"movie\\\",\\\"DVD\\\":\\\"21 Aug 2018\\\",\\\"BoxOffice\\\":\\\"N/A\\\",\\\"Production\\\":\\\"20th Century Fox\\\",\\\"Website\\\":\\\"https://www.foxmovies.com/movies/deadpool-2\\\",\\\"Response\\\":\\\"True\\\"}\",\n",
    "  \"http://www.omdbapi.com/apikey-d9ef00e2_r-json_t-Cars 3\": \"{\\\"Title\\\":\\\"Cars 3\\\",\\\"Year\\\":\\\"2017\\\",\\\"Rated\\\":\\\"G\\\",\\\"Released\\\":\\\"16 Jun 2017\\\",\\\"Runtime\\\":\\\"102 min\\\",\\\"Genre\\\":\\\"Animation, Adventure, Comedy, Family, Sport\\\",\\\"Director\\\":\\\"Brian Fee\\\",\\\"Writer\\\":\\\"Brian Fee (original story by), Ben Queen (original story by), Eyal Podell (original story by), Jonathon E. Stewart (original story by), Kiel Murray (screenplay by), Bob Peterson (screenplay by), Mike Rich (screenplay by), Scott Morse (additional story material)\\\",\\\"Actors\\\":\\\"Owen Wilson, Cristela Alonzo, Chris Cooper, Nathan Fillion\\\",\\\"Plot\\\":\\\"Lightning McQueen sets out to prove to a new generation of racers that he's still the best race car in the world.\\\",\\\"Language\\\":\\\"English\\\",\\\"Country\\\":\\\"USA\\\",\\\"Awards\\\":\\\"20 nominations.\\\",\\\"Poster\\\":\\\"https://m.media-amazon.com/images/M/MV5BMTc0NzU2OTYyN15BMl5BanBnXkFtZTgwMTkwOTg2MTI@._V1_SX300.jpg\\\",\\\"Ratings\\\":[{\\\"Source\\\":\\\"Internet Movie Database\\\",\\\"Value\\\":\\\"6.8/10\\\"},{\\\"Source\\\":\\\"Rotten Tomatoes\\\",\\\"Value\\\":\\\"68%\\\"},{\\\"Source\\\":\\\"Metacritic\\\",\\\"Value\\\":\\\"59/100\\\"}],\\\"Metascore\\\":\\\"59\\\",\\\"imdbRating\\\":\\\"6.8\\\",\\\"imdbVotes\\\":\\\"51,309\\\",\\\"imdbID\\\":\\\"tt3606752\\\",\\\"Type\\\":\\\"movie\\\",\\\"DVD\\\":\\\"07 Nov 2017\\\",\\\"BoxOffice\\\":\\\"$152,603,003\\\",\\\"Production\\\":\\\"Walt Disney Pictures\\\",\\\"Website\\\":\\\"http://movies.disney.com/cars-3\\\",\\\"Response\\\":\\\"True\\\"}\",\n",
    "  \"https://tastedive.com/api/similark-249694-JazzComp-89VNLWSG_limit-5_q-Captain Marvel_type-movies\": \"{\\\"Similar\\\": {\\\"Info\\\": [{\\\"Name\\\": \\\"Captain Marvel\\\", \\\"Type\\\": \\\"movie\\\"}], \\\"Results\\\": [{\\\"Name\\\": \\\"Inhumans\\\", \\\"Type\\\": \\\"movie\\\"}, {\\\"Name\\\": \\\"Venom\\\", \\\"Type\\\": \\\"movie\\\"}, {\\\"Name\\\": \\\"American Assassin\\\", \\\"Type\\\": \\\"movie\\\"}, {\\\"Name\\\": \\\"The Fate Of The Furious\\\", \\\"Type\\\": \\\"movie\\\"}, {\\\"Name\\\": \\\"Cars 3\\\", \\\"Type\\\": \\\"movie\\\"}]}}\",\n",
    "  \"http://www.omdbapi.com/apikey-d9ef00e2_r-json_t-Bad Teacher\": \"{\\\"Title\\\":\\\"Bad Teacher\\\",\\\"Year\\\":\\\"2011\\\",\\\"Rated\\\":\\\"R\\\",\\\"Released\\\":\\\"24 Jun 2011\\\",\\\"Runtime\\\":\\\"92 min\\\",\\\"Genre\\\":\\\"Comedy, Romance\\\",\\\"Director\\\":\\\"Jake Kasdan\\\",\\\"Writer\\\":\\\"Gene Stupnitsky, Lee Eisenberg\\\",\\\"Actors\\\":\\\"Cameron Diaz, Lucy Punch, Jason Segel, Justin Timberlake\\\",\\\"Plot\\\":\\\"A lazy, incompetent middle school teacher who hates her job, her students, and her co-workers is forced to return to teaching to make enough money for breast implants after her wealthy fianc\\u00e9 dumps her.\\\",\\\"Language\\\":\\\"English\\\",\\\"Country\\\":\\\"USA\\\",\\\"Awards\\\":\\\"6 wins & 4 nominations.\\\",\\\"Poster\\\":\\\"https://m.media-amazon.com/images/M/MV5BMTQ5NDI4MDM0Nl5BMl5BanBnXkFtZTcwNDYwODU2NA@@._V1_SX300.jpg\\\",\\\"Ratings\\\":[{\\\"Source\\\":\\\"Internet Movie Database\\\",\\\"Value\\\":\\\"5.7/10\\\"},{\\\"Source\\\":\\\"Rotten Tomatoes\\\",\\\"Value\\\":\\\"45%\\\"},{\\\"Source\\\":\\\"Metacritic\\\",\\\"Value\\\":\\\"47/100\\\"}],\\\"Metascore\\\":\\\"47\\\",\\\"imdbRating\\\":\\\"5.7\\\",\\\"imdbVotes\\\":\\\"176,581\\\",\\\"imdbID\\\":\\\"tt1284575\\\",\\\"Type\\\":\\\"movie\\\",\\\"DVD\\\":\\\"18 Oct 2011\\\",\\\"BoxOffice\\\":\\\"$100,292,856\\\",\\\"Production\\\":\\\"Sony Pictures\\\",\\\"Website\\\":\\\"http://www.areyouabadteacher.com/\\\",\\\"Response\\\":\\\"True\\\"}\",\n",
    "  \"http://www.omdbapi.com/apikey-d9ef00e2_r-json_t-Captain Marvel\": \"{\\\"Title\\\":\\\"Captain Marvel\\\",\\\"Year\\\":\\\"1962\\\",\\\"Rated\\\":\\\"N/A\\\",\\\"Released\\\":\\\"N/A\\\",\\\"Runtime\\\":\\\"10 min\\\",\\\"Genre\\\":\\\"Short, Action, Adventure\\\",\\\"Director\\\":\\\"Donald F. Glut\\\",\\\"Writer\\\":\\\"Donald F. Glut\\\",\\\"Actors\\\":\\\"Rich Hagopian, Dick Andersen, Bill Bungert, Donald F. Glut\\\",\\\"Plot\\\":\\\"Captain Marvel saves the world from an oncoming asteroid, but in doing so, comes to the attention of criminals.\\\",\\\"Language\\\":\\\"English\\\",\\\"Country\\\":\\\"USA\\\",\\\"Awards\\\":\\\"N/A\\\",\\\"Poster\\\":\\\"https://images-na.ssl-images-amazon.com/images/M/MV5BYWQwNTE2YzItNjViYy00ODdmLWI1MDctMGEyODNlYzI5ZDcyXkEyXkFqcGdeQXVyMzI2MDEwNA@@._V1_SX300.jpg\\\",\\\"Ratings\\\":[{\\\"Source\\\":\\\"Internet Movie Database\\\",\\\"Value\\\":\\\"6.1/10\\\"}],\\\"Metascore\\\":\\\"N/A\\\",\\\"imdbRating\\\":\\\"6.1\\\",\\\"imdbVotes\\\":\\\"27\\\",\\\"imdbID\\\":\\\"tt3959390\\\",\\\"Type\\\":\\\"movie\\\",\\\"DVD\\\":\\\"N/A\\\",\\\"BoxOffice\\\":\\\"N/A\\\",\\\"Production\\\":\\\"N/A\\\",\\\"Website\\\":\\\"N/A\\\",\\\"Response\\\":\\\"True\\\"}\",\n",
    "  \"http://www.omdbapi.com/apikey-d9ef00e2_r-json_t-American Assassin\": \"{\\\"Title\\\":\\\"American Assassin\\\",\\\"Year\\\":\\\"2017\\\",\\\"Rated\\\":\\\"R\\\",\\\"Released\\\":\\\"15 Sep 2017\\\",\\\"Runtime\\\":\\\"112 min\\\",\\\"Genre\\\":\\\"Action, Thriller\\\",\\\"Director\\\":\\\"Michael Cuesta\\\",\\\"Writer\\\":\\\"Stephen Schiff (screenplay by), Michael Finch (screenplay by), Edward Zwick (screenplay by), Marshall Herskovitz (screenplay by), Vince Flynn (based on the novel by)\\\",\\\"Actors\\\":\\\"Dylan O'Brien, Charlotte Vega, Christopher Bomford, Chris Webster\\\",\\\"Plot\\\":\\\"After the death of his girlfriend at the hands of terrorists, Mitch Rapp is drawn into the world of counterterrorism, mentored by tough-as-nails former U.S. Navy S.E.A.L. Stan Hurley.\\\",\\\"Language\\\":\\\"English, Spanish, Arabic, Polish, Turkish, Russian, Italian, Persian\\\",\\\"Country\\\":\\\"USA\\\",\\\"Awards\\\":\\\"1 nomination.\\\",\\\"Poster\\\":\\\"https://m.media-amazon.com/images/M/MV5BMjM0MjY4MTk5NV5BMl5BanBnXkFtZTgwNDE2NTQyMzI@._V1_SX300.jpg\\\",\\\"Ratings\\\":[{\\\"Source\\\":\\\"Internet Movie Database\\\",\\\"Value\\\":\\\"6.2/10\\\"},{\\\"Source\\\":\\\"Rotten Tomatoes\\\",\\\"Value\\\":\\\"35%\\\"},{\\\"Source\\\":\\\"Metacritic\\\",\\\"Value\\\":\\\"45/100\\\"}],\\\"Metascore\\\":\\\"45\\\",\\\"imdbRating\\\":\\\"6.2\\\",\\\"imdbVotes\\\":\\\"52,161\\\",\\\"imdbID\\\":\\\"tt1961175\\\",\\\"Type\\\":\\\"movie\\\",\\\"DVD\\\":\\\"05 Dec 2017\\\",\\\"BoxOffice\\\":\\\"$34,449,582\\\",\\\"Production\\\":\\\"Lionsgate and CBS Films\\\",\\\"Website\\\":\\\"http://www.cbsfilms.com/american-assassin/\\\",\\\"Response\\\":\\\"True\\\"}\",\n",
    "  \"https://tastedive.com/api/similark-249694-JazzComp-89VNLWSG_limit-5_q-Sherlock Holmes_type-movies\": \"{\\\"Similar\\\": {\\\"Info\\\": [{\\\"Name\\\": \\\"Sherlock Holmes\\\", \\\"Type\\\": \\\"movie\\\"}], \\\"Results\\\": [{\\\"Name\\\": \\\"Sherlock Holmes: A Game Of Shadows\\\", \\\"Type\\\": \\\"movie\\\"}, {\\\"Name\\\": \\\"Prince Of Persia: The Sands Of Time\\\", \\\"Type\\\": \\\"movie\\\"}, {\\\"Name\\\": \\\"Pirates Of The Caribbean: On Stranger Tides\\\", \\\"Type\\\": \\\"movie\\\"}, {\\\"Name\\\": \\\"Angels & Demons\\\", \\\"Type\\\": \\\"movie\\\"}, {\\\"Name\\\": \\\"The A-Team\\\", \\\"Type\\\": \\\"movie\\\"}]}}\",\n",
    "  \"https://tastedive.com/api/similark-249694-JazzComp-89VNLWSG_q-Black Panther_type-movies\": \"{\\\"Similar\\\": {\\\"Info\\\": [{\\\"Name\\\": \\\"Black Panther\\\", \\\"Type\\\": \\\"movie\\\"}], \\\"Results\\\": [{\\\"Name\\\": \\\"Avengers: Infinity War\\\", \\\"Type\\\": \\\"movie\\\"}, {\\\"Name\\\": \\\"Captain Marvel\\\", \\\"Type\\\": \\\"movie\\\"}, {\\\"Name\\\": \\\"Ant-Man And The Wasp\\\", \\\"Type\\\": \\\"movie\\\"}, {\\\"Name\\\": \\\"The Fate Of The Furious\\\", \\\"Type\\\": \\\"movie\\\"}, {\\\"Name\\\": \\\"Deadpool 2\\\", \\\"Type\\\": \\\"movie\\\"}, {\\\"Name\\\": \\\"Ready Player One\\\", \\\"Type\\\": \\\"movie\\\"}, {\\\"Name\\\": \\\"Jumanji: Welcome To The Jungle\\\", \\\"Type\\\": \\\"movie\\\"}, {\\\"Name\\\": \\\"Solo: A Star Wars Story\\\", \\\"Type\\\": \\\"movie\\\"}, {\\\"Name\\\": \\\"Independence Day: Resurgence\\\", \\\"Type\\\": \\\"movie\\\"}, {\\\"Name\\\": \\\"Thor: Ragnarok\\\", \\\"Type\\\": \\\"movie\\\"}, {\\\"Name\\\": \\\"Pitch Perfect 3\\\", \\\"Type\\\": \\\"movie\\\"}, {\\\"Name\\\": \\\"Power Rangers\\\", \\\"Type\\\": \\\"movie\\\"}, {\\\"Name\\\": \\\"Ocean's 8\\\", \\\"Type\\\": \\\"movie\\\"}, {\\\"Name\\\": \\\"The Divergent Series: Allegiant\\\", \\\"Type\\\": \\\"movie\\\"}, {\\\"Name\\\": \\\"Daddy's Home 2\\\", \\\"Type\\\": \\\"movie\\\"}, {\\\"Name\\\": \\\"A Quiet Place\\\", \\\"Type\\\": \\\"movie\\\"}, {\\\"Name\\\": \\\"Game Night\\\", \\\"Type\\\": \\\"movie\\\"}, {\\\"Name\\\": \\\"The Cloverfield Paradox\\\", \\\"Type\\\": \\\"movie\\\"}, {\\\"Name\\\": \\\"Star Wars: The Last Jedi\\\", \\\"Type\\\": \\\"movie\\\"}, {\\\"Name\\\": \\\"American Assassin\\\", \\\"Type\\\": \\\"movie\\\"}]}}\",\n",
    "  \"http://www.omdbapi.com/apikey-d9ef00e2_r-json_t-Venom\": \"{\\\"Title\\\":\\\"Venom\\\",\\\"Year\\\":\\\"2018\\\",\\\"Rated\\\":\\\"N/A\\\",\\\"Released\\\":\\\"05 Oct 2018\\\",\\\"Runtime\\\":\\\"112 min\\\",\\\"Genre\\\":\\\"Action, Sci-Fi\\\",\\\"Director\\\":\\\"Ruben Fleischer\\\",\\\"Writer\\\":\\\"Jeff Pinkner (screenplay by), Scott Rosenberg (screenplay by), Kelly Marcel (screenplay by), Jeff Pinkner (screen story by), Scott Rosenberg (screen story by), Todd McFarlane (Marvel's Venom Character created by), David Michelinie (Marvel's Venom Character created by)\\\",\\\"Actors\\\":\\\"Tom Hardy, Michelle Williams, Riz Ahmed, Scott Haze\\\",\\\"Plot\\\":\\\"When Eddie Brock acquires the powers of a symbiote, he will have to release his alter-ego \\\\\\\"Venom\\\\\\\" to save his life.\\\",\\\"Language\\\":\\\"English\\\",\\\"Country\\\":\\\"USA, China\\\",\\\"Awards\\\":\\\"N/A\\\",\\\"Poster\\\":\\\"https://m.media-amazon.com/images/M/MV5BNzAwNzUzNjY4MV5BMl5BanBnXkFtZTgwMTQ5MzM0NjM@._V1_SX300.jpg\\\",\\\"Ratings\\\":[{\\\"Source\\\":\\\"Internet Movie Database\\\",\\\"Value\\\":\\\"7.0/10\\\"},{\\\"Source\\\":\\\"Metacritic\\\",\\\"Value\\\":\\\"35/100\\\"}],\\\"Metascore\\\":\\\"35\\\",\\\"imdbRating\\\":\\\"7.0\\\",\\\"imdbVotes\\\":\\\"114,862\\\",\\\"imdbID\\\":\\\"tt1270797\\\",\\\"Type\\\":\\\"movie\\\",\\\"DVD\\\":\\\"18 Jun 2013\\\",\\\"BoxOffice\\\":\\\"N/A\\\",\\\"Production\\\":\\\"Vis\\\",\\\"Website\\\":\\\"N/A\\\",\\\"Response\\\":\\\"True\\\"}\",\n",
    "  \"http://www.omdbapi.com/apikey-d9ef00e2_r-json_t-Angels & Demons\": \"{\\\"Title\\\":\\\"Angels & Demons\\\",\\\"Year\\\":\\\"2009\\\",\\\"Rated\\\":\\\"PG-13\\\",\\\"Released\\\":\\\"15 May 2009\\\",\\\"Runtime\\\":\\\"138 min\\\",\\\"Genre\\\":\\\"Mystery, Thriller\\\",\\\"Director\\\":\\\"Ron Howard\\\",\\\"Writer\\\":\\\"David Koepp (screenplay), Akiva Goldsman (screenplay), Dan Brown (novel)\\\",\\\"Actors\\\":\\\"Tom Hanks, Ewan McGregor, Ayelet Zurer, Stellan Skarsg\\u00e5rd\\\",\\\"Plot\\\":\\\"Harvard symbologist Robert Langdon works with a nuclear physicist to solve a murder and prevent a terrorist act against the Vatican during one of the significant events within the church.\\\",\\\"Language\\\":\\\"English, Italian, Latin, French, Swiss German, German, Chinese, Spanish, Polish\\\",\\\"Country\\\":\\\"USA, Italy\\\",\\\"Awards\\\":\\\"1 win & 5 nominations.\\\",\\\"Poster\\\":\\\"https://m.media-amazon.com/images/M/MV5BMjEzNzM2MjgxMF5BMl5BanBnXkFtZTcwNTQ1MTM0Mg@@._V1_SX300.jpg\\\",\\\"Ratings\\\":[{\\\"Source\\\":\\\"Internet Movie Database\\\",\\\"Value\\\":\\\"6.7/10\\\"},{\\\"Source\\\":\\\"Rotten Tomatoes\\\",\\\"Value\\\":\\\"37%\\\"},{\\\"Source\\\":\\\"Metacritic\\\",\\\"Value\\\":\\\"48/100\\\"}],\\\"Metascore\\\":\\\"48\\\",\\\"imdbRating\\\":\\\"6.7\\\",\\\"imdbVotes\\\":\\\"244,217\\\",\\\"imdbID\\\":\\\"tt0808151\\\",\\\"Type\\\":\\\"movie\\\",\\\"DVD\\\":\\\"24 Nov 2009\\\",\\\"BoxOffice\\\":\\\"$133,375,846\\\",\\\"Production\\\":\\\"Sony/Columbia Pictures\\\",\\\"Website\\\":\\\"http://www.angelsanddemons.com/\\\",\\\"Response\\\":\\\"True\\\"}\",\n",
    "  \"http://www.omdbapi.com/apikey-d9ef00e2_r-json_t-The Fate Of The Furious\": \"{\\\"Title\\\":\\\"The Fate of the Furious\\\",\\\"Year\\\":\\\"2017\\\",\\\"Rated\\\":\\\"PG-13\\\",\\\"Released\\\":\\\"14 Apr 2017\\\",\\\"Runtime\\\":\\\"136 min\\\",\\\"Genre\\\":\\\"Action, Crime, Thriller\\\",\\\"Director\\\":\\\"F. Gary Gray\\\",\\\"Writer\\\":\\\"Gary Scott Thompson (based on characters created by), Chris Morgan\\\",\\\"Actors\\\":\\\"Vin Diesel, Jason Statham, Dwayne Johnson, Michelle Rodriguez\\\",\\\"Plot\\\":\\\"When a mysterious woman seduces Dom into the world of terrorism and a betrayal of those closest to him, the crew face trials that will test them as never before.\\\",\\\"Language\\\":\\\"English, Russian\\\",\\\"Country\\\":\\\"China, USA, Japan\\\",\\\"Awards\\\":\\\"1 win & 9 nominations.\\\",\\\"Poster\\\":\\\"https://m.media-amazon.com/images/M/MV5BMjMxODI2NDM5Nl5BMl5BanBnXkFtZTgwNjgzOTk1MTI@._V1_SX300.jpg\\\",\\\"Ratings\\\":[{\\\"Source\\\":\\\"Internet Movie Database\\\",\\\"Value\\\":\\\"6.7/10\\\"},{\\\"Source\\\":\\\"Rotten Tomatoes\\\",\\\"Value\\\":\\\"67%\\\"},{\\\"Source\\\":\\\"Metacritic\\\",\\\"Value\\\":\\\"56/100\\\"}],\\\"Metascore\\\":\\\"56\\\",\\\"imdbRating\\\":\\\"6.7\\\",\\\"imdbVotes\\\":\\\"168,071\\\",\\\"imdbID\\\":\\\"tt4630562\\\",\\\"Type\\\":\\\"movie\\\",\\\"DVD\\\":\\\"11 Jul 2017\\\",\\\"BoxOffice\\\":\\\"$225,697,400\\\",\\\"Production\\\":\\\"Universal Pictures\\\",\\\"Website\\\":\\\"N/A\\\",\\\"Response\\\":\\\"True\\\"}\",\n",
    "  \"http://www.omdbapi.com/apikey-d9ef00e2_r-json_t-Ant-Man And The Wasp\": \"{\\\"Title\\\":\\\"Ant-Man and the Wasp\\\",\\\"Year\\\":\\\"2018\\\",\\\"Rated\\\":\\\"PG-13\\\",\\\"Released\\\":\\\"06 Jul 2018\\\",\\\"Runtime\\\":\\\"118 min\\\",\\\"Genre\\\":\\\"Action, Adventure, Comedy, Sci-Fi\\\",\\\"Director\\\":\\\"Peyton Reed\\\",\\\"Writer\\\":\\\"Chris McKenna, Erik Sommers, Paul Rudd, Andrew Barrer, Gabriel Ferrari, Stan Lee (based on the Marvel Comics by), Larry Lieber (based on the Marvel Comics by), Jack Kirby (based on the Marvel Comics by)\\\",\\\"Actors\\\":\\\"Paul Rudd, Evangeline Lilly, Michael Pe\\u00f1a, Walton Goggins\\\",\\\"Plot\\\":\\\"As Scott Lang balances being both a Super Hero and a father, Hope van Dyne and Dr. Hank Pym present an urgent new mission that finds the Ant-Man fighting alongside The Wasp to uncover secrets from their past.\\\",\\\"Language\\\":\\\"English\\\",\\\"Country\\\":\\\"USA\\\",\\\"Awards\\\":\\\"N/A\\\",\\\"Poster\\\":\\\"https://m.media-amazon.com/images/M/MV5BYjcyYTk0N2YtMzc4ZC00Y2E0LWFkNDgtNjE1MzZmMGE1YjY1XkEyXkFqcGdeQXVyMTMxODk2OTU@._V1_SX300.jpg\\\",\\\"Ratings\\\":[{\\\"Source\\\":\\\"Internet Movie Database\\\",\\\"Value\\\":\\\"7.2/10\\\"},{\\\"Source\\\":\\\"Rotten Tomatoes\\\",\\\"Value\\\":\\\"88%\\\"},{\\\"Source\\\":\\\"Metacritic\\\",\\\"Value\\\":\\\"70/100\\\"}],\\\"Metascore\\\":\\\"70\\\",\\\"imdbRating\\\":\\\"7.2\\\",\\\"imdbVotes\\\":\\\"140,723\\\",\\\"imdbID\\\":\\\"tt5095030\\\",\\\"Type\\\":\\\"movie\\\",\\\"DVD\\\":\\\"02 Oct 2018\\\",\\\"BoxOffice\\\":\\\"N/A\\\",\\\"Production\\\":\\\"Walt Disney Pictures\\\",\\\"Website\\\":\\\"https://marvel.com/antman\\\",\\\"Response\\\":\\\"True\\\"}\",\n",
    "  \"https://tastedive.com/api/similark-249694-JazzComp-89VNLWSG_limit-10_q-Black Panther\": \"{\\\"Similar\\\": {\\\"Info\\\": [{\\\"Name\\\": \\\"Black Panther\\\", \\\"Type\\\": \\\"movie\\\"}], \\\"Results\\\": [{\\\"Name\\\": \\\"Avengers: Infinity War\\\", \\\"Type\\\": \\\"movie\\\"}, {\\\"Name\\\": \\\"Captain Marvel\\\", \\\"Type\\\": \\\"movie\\\"}, {\\\"Name\\\": \\\"Ant-Man And The Wasp\\\", \\\"Type\\\": \\\"movie\\\"}, {\\\"Name\\\": \\\"The Fate Of The Furious\\\", \\\"Type\\\": \\\"movie\\\"}, {\\\"Name\\\": \\\"Deadpool 2\\\", \\\"Type\\\": \\\"movie\\\"}, {\\\"Name\\\": \\\"Ready Player One\\\", \\\"Type\\\": \\\"movie\\\"}, {\\\"Name\\\": \\\"Jumanji: Welcome To The Jungle\\\", \\\"Type\\\": \\\"movie\\\"}, {\\\"Name\\\": \\\"Solo: A Star Wars Story\\\", \\\"Type\\\": \\\"movie\\\"}, {\\\"Name\\\": \\\"Independence Day: Resurgence\\\", \\\"Type\\\": \\\"movie\\\"}, {\\\"Name\\\": \\\"Thor: Ragnarok\\\", \\\"Type\\\": \\\"movie\\\"}]}}\",\n",
    "  \"http://www.omdbapi.com/apikey-d9ef00e2_r-json_t-Avengers: Infinity War\": \"{\\\"Title\\\":\\\"Avengers: Infinity War\\\",\\\"Year\\\":\\\"2018\\\",\\\"Rated\\\":\\\"PG-13\\\",\\\"Released\\\":\\\"27 Apr 2018\\\",\\\"Runtime\\\":\\\"149 min\\\",\\\"Genre\\\":\\\"Action, Adventure, Fantasy, Sci-Fi\\\",\\\"Director\\\":\\\"Anthony Russo, Joe Russo\\\",\\\"Writer\\\":\\\"Christopher Markus (screenplay by), Stephen McFeely (screenplay by), Stan Lee (based on the Marvel comics by), Jack Kirby (based on the Marvel comics by), Joe Simon (Captain America created by), Jack Kirby (Captain America created by), Steve Englehart (Star-Lord created by), Steve Gan (Star-Lord created by), Bill Mantlo (Rocket Raccoon created by), Keith Giffen (Rocket Raccoon created by), Jim Starlin (Thanos,  Gamora and Drax created by), Stan Lee (Groot created by), Larry Lieber (Groot created by), Jack Kirby (Groot created by), Steve Englehart (Mantis created by), Don Heck (Mantis created by)\\\",\\\"Actors\\\":\\\"Robert Downey Jr., Chris Hemsworth, Mark Ruffalo, Chris Evans\\\",\\\"Plot\\\":\\\"The Avengers and their allies must be willing to sacrifice all in an attempt to defeat the powerful Thanos before his blitz of devastation and ruin puts an end to the universe.\\\",\\\"Language\\\":\\\"English\\\",\\\"Country\\\":\\\"USA\\\",\\\"Awards\\\":\\\"N/A\\\",\\\"Poster\\\":\\\"https://m.media-amazon.com/images/M/MV5BMjMxNjY2MDU1OV5BMl5BanBnXkFtZTgwNzY1MTUwNTM@._V1_SX300.jpg\\\",\\\"Ratings\\\":[{\\\"Source\\\":\\\"Internet Movie Database\\\",\\\"Value\\\":\\\"8.6/10\\\"},{\\\"Source\\\":\\\"Rotten Tomatoes\\\",\\\"Value\\\":\\\"84%\\\"},{\\\"Source\\\":\\\"Metacritic\\\",\\\"Value\\\":\\\"68/100\\\"}],\\\"Metascore\\\":\\\"68\\\",\\\"imdbRating\\\":\\\"8.6\\\",\\\"imdbVotes\\\":\\\"505,383\\\",\\\"imdbID\\\":\\\"tt4154756\\\",\\\"Type\\\":\\\"movie\\\",\\\"DVD\\\":\\\"14 Aug 2018\\\",\\\"BoxOffice\\\":\\\"$664,987,816\\\",\\\"Production\\\":\\\"Walt Disney Pictures\\\",\\\"Website\\\":\\\"http://marvel.com/movies/movie/223/avengers_infinity_war\\\",\\\"Response\\\":\\\"True\\\"}\",\n",
    "  \"http://www.omdbapi.com/apikey-d9ef00e2_r-json_t-Date Night\": \"{\\\"Title\\\":\\\"Date Night\\\",\\\"Year\\\":\\\"2010\\\",\\\"Rated\\\":\\\"PG-13\\\",\\\"Released\\\":\\\"09 Apr 2010\\\",\\\"Runtime\\\":\\\"88 min\\\",\\\"Genre\\\":\\\"Comedy, Crime, Romance, Thriller\\\",\\\"Director\\\":\\\"Shawn Levy\\\",\\\"Writer\\\":\\\"Josh Klausner\\\",\\\"Actors\\\":\\\"Steve Carell, Tina Fey, Mark Wahlberg, Taraji P. Henson\\\",\\\"Plot\\\":\\\"In New York City, a case of mistaken identity turns a bored married couple's attempt at a glamorous and romantic evening into something more thrilling and dangerous.\\\",\\\"Language\\\":\\\"English, Hebrew\\\",\\\"Country\\\":\\\"USA\\\",\\\"Awards\\\":\\\"4 wins & 8 nominations.\\\",\\\"Poster\\\":\\\"https://m.media-amazon.com/images/M/MV5BODgwMjM2ODE4M15BMl5BanBnXkFtZTcwMTU2MDcyMw@@._V1_SX300.jpg\\\",\\\"Ratings\\\":[{\\\"Source\\\":\\\"Internet Movie Database\\\",\\\"Value\\\":\\\"6.3/10\\\"},{\\\"Source\\\":\\\"Rotten Tomatoes\\\",\\\"Value\\\":\\\"67%\\\"},{\\\"Source\\\":\\\"Metacritic\\\",\\\"Value\\\":\\\"56/100\\\"}],\\\"Metascore\\\":\\\"56\\\",\\\"imdbRating\\\":\\\"6.3\\\",\\\"imdbVotes\\\":\\\"141,068\\\",\\\"imdbID\\\":\\\"tt1279935\\\",\\\"Type\\\":\\\"movie\\\",\\\"DVD\\\":\\\"10 Aug 2010\\\",\\\"BoxOffice\\\":\\\"$98,710,290\\\",\\\"Production\\\":\\\"20th Century Fox\\\",\\\"Website\\\":\\\"http://www.datenight-movie.com/\\\",\\\"Response\\\":\\\"True\\\"}\",\n",
    "  \"http://www.omdbapi.com/apikey-d9ef00e2_r-json_t-The A-Team\": \"{\\\"Title\\\":\\\"The A-Team\\\",\\\"Year\\\":\\\"2010\\\",\\\"Rated\\\":\\\"PG-13\\\",\\\"Released\\\":\\\"11 Jun 2010\\\",\\\"Runtime\\\":\\\"117 min\\\",\\\"Genre\\\":\\\"Action, Adventure, Comedy\\\",\\\"Director\\\":\\\"Joe Carnahan\\\",\\\"Writer\\\":\\\"Joe Carnahan, Brian Bloom, Skip Woods, Frank Lupo (television series \\\\\\\"The A-Team\\\\\\\"), Stephen J. Cannell (television series \\\\\\\"The A-Team\\\\\\\")\\\",\\\"Actors\\\":\\\"Liam Neeson, Bradley Cooper, Jessica Biel, Quinton 'Rampage' Jackson\\\",\\\"Plot\\\":\\\"A group of Iraq War veterans look to clear their name with the U.S. Military, who suspect the four men of committing a crime for which they were framed.\\\",\\\"Language\\\":\\\"English, Spanish, French, Swahili, German\\\",\\\"Country\\\":\\\"USA\\\",\\\"Awards\\\":\\\"2 wins & 4 nominations.\\\",\\\"Poster\\\":\\\"https://m.media-amazon.com/images/M/MV5BMTc4ODc4NTQ1N15BMl5BanBnXkFtZTcwNDUxODUyMw@@._V1_SX300.jpg\\\",\\\"Ratings\\\":[{\\\"Source\\\":\\\"Internet Movie Database\\\",\\\"Value\\\":\\\"6.8/10\\\"},{\\\"Source\\\":\\\"Rotten Tomatoes\\\",\\\"Value\\\":\\\"48%\\\"},{\\\"Source\\\":\\\"Metacritic\\\",\\\"Value\\\":\\\"47/100\\\"}],\\\"Metascore\\\":\\\"47\\\",\\\"imdbRating\\\":\\\"6.8\\\",\\\"imdbVotes\\\":\\\"230,261\\\",\\\"imdbID\\\":\\\"tt0429493\\\",\\\"Type\\\":\\\"movie\\\",\\\"DVD\\\":\\\"14 Dec 2010\\\",\\\"BoxOffice\\\":\\\"$77,213,489\\\",\\\"Production\\\":\\\"20th Century Fox\\\",\\\"Website\\\":\\\"http://www.ateam-movie.com/\\\",\\\"Response\\\":\\\"True\\\"}\",\n",
    "  \"http://www.omdbapi.com/apikey-d9ef00e2_r-json_t-Sherlock Holmes: A Game Of Shadows\": \"{\\\"Title\\\":\\\"Sherlock Holmes: A Game of Shadows\\\",\\\"Year\\\":\\\"2011\\\",\\\"Rated\\\":\\\"PG-13\\\",\\\"Released\\\":\\\"16 Dec 2011\\\",\\\"Runtime\\\":\\\"129 min\\\",\\\"Genre\\\":\\\"Action, Adventure, Crime, Mystery, Thriller\\\",\\\"Director\\\":\\\"Guy Ritchie\\\",\\\"Writer\\\":\\\"Michele Mulroney, Kieran Mulroney, Arthur Conan Doyle (characters)\\\",\\\"Actors\\\":\\\"Robert Downey Jr., Jude Law, Noomi Rapace, Rachel McAdams\\\",\\\"Plot\\\":\\\"Sherlock Holmes and his sidekick Dr. Watson join forces to outwit and bring down their fiercest adversary, Professor Moriarty.\\\",\\\"Language\\\":\\\"English, French, Italian, German, Romany\\\",\\\"Country\\\":\\\"USA\\\",\\\"Awards\\\":\\\"3 wins & 11 nominations.\\\",\\\"Poster\\\":\\\"https://m.media-amazon.com/images/M/MV5BMTQwMzQ5Njk1MF5BMl5BanBnXkFtZTcwNjIxNzIxNw@@._V1_SX300.jpg\\\",\\\"Ratings\\\":[{\\\"Source\\\":\\\"Internet Movie Database\\\",\\\"Value\\\":\\\"7.5/10\\\"},{\\\"Source\\\":\\\"Rotten Tomatoes\\\",\\\"Value\\\":\\\"59%\\\"},{\\\"Source\\\":\\\"Metacritic\\\",\\\"Value\\\":\\\"48/100\\\"}],\\\"Metascore\\\":\\\"48\\\",\\\"imdbRating\\\":\\\"7.5\\\",\\\"imdbVotes\\\":\\\"383,271\\\",\\\"imdbID\\\":\\\"tt1515091\\\",\\\"Type\\\":\\\"movie\\\",\\\"DVD\\\":\\\"12 Jun 2012\\\",\\\"BoxOffice\\\":\\\"$186,830,669\\\",\\\"Production\\\":\\\"Warner Bros. Pictures\\\",\\\"Website\\\":\\\"http://www.sherlockholmes2.com\\\",\\\"Response\\\":\\\"True\\\"}\",\n",
    "  \"http://www.omdbapi.com/apikey-d9ef00e2_r-json_t-Prince Of Persia: The Sands Of Time\": \"{\\\"Title\\\":\\\"Prince of Persia: The Sands of Time\\\",\\\"Year\\\":\\\"2010\\\",\\\"Rated\\\":\\\"PG-13\\\",\\\"Released\\\":\\\"28 May 2010\\\",\\\"Runtime\\\":\\\"116 min\\\",\\\"Genre\\\":\\\"Action, Adventure, Fantasy\\\",\\\"Director\\\":\\\"Mike Newell\\\",\\\"Writer\\\":\\\"Boaz Yakin (screenplay), Doug Miro (screenplay), Carlo Bernard (screenplay), Jordan Mechner (screen story), Jordan Mechner (video game series \\\\\\\"Prince of Persia\\\\\\\")\\\",\\\"Actors\\\":\\\"Jake Gyllenhaal, Gemma Arterton, Ben Kingsley, Alfred Molina\\\",\\\"Plot\\\":\\\"A young fugitive prince and princess must stop a villain who unknowingly threatens to destroy the world with a special dagger that enables the magic sand inside to reverse time.\\\",\\\"Language\\\":\\\"English\\\",\\\"Country\\\":\\\"USA\\\",\\\"Awards\\\":\\\"1 win & 10 nominations.\\\",\\\"Poster\\\":\\\"https://m.media-amazon.com/images/M/MV5BMTMwNDg0NzcyMV5BMl5BanBnXkFtZTcwNjg4MjQyMw@@._V1_SX300.jpg\\\",\\\"Ratings\\\":[{\\\"Source\\\":\\\"Internet Movie Database\\\",\\\"Value\\\":\\\"6.6/10\\\"},{\\\"Source\\\":\\\"Rotten Tomatoes\\\",\\\"Value\\\":\\\"36%\\\"},{\\\"Source\\\":\\\"Metacritic\\\",\\\"Value\\\":\\\"50/100\\\"}],\\\"Metascore\\\":\\\"50\\\",\\\"imdbRating\\\":\\\"6.6\\\",\\\"imdbVotes\\\":\\\"247,770\\\",\\\"imdbID\\\":\\\"tt0473075\\\",\\\"Type\\\":\\\"movie\\\",\\\"DVD\\\":\\\"14 Sep 2010\\\",\\\"BoxOffice\\\":\\\"$90,755,643\\\",\\\"Production\\\":\\\"Walt Disney Pictures\\\",\\\"Website\\\":\\\"http://Disney.com/PrinceOfPersia\\\",\\\"Response\\\":\\\"True\\\"}\",\n",
    "  \"http://www.omdbapi.com/apikey-d9ef00e2_r-json_t-The Five-Year Engagement\": \"{\\\"Title\\\":\\\"The Five-Year Engagement\\\",\\\"Year\\\":\\\"2012\\\",\\\"Rated\\\":\\\"R\\\",\\\"Released\\\":\\\"27 Apr 2012\\\",\\\"Runtime\\\":\\\"124 min\\\",\\\"Genre\\\":\\\"Comedy, Romance\\\",\\\"Director\\\":\\\"Nicholas Stoller\\\",\\\"Writer\\\":\\\"Jason Segel, Nicholas Stoller\\\",\\\"Actors\\\":\\\"Jason Segel, Emily Blunt, Chris Pratt, Alison Brie\\\",\\\"Plot\\\":\\\"One year after meeting, Tom proposes to his girlfriend, Violet, but unexpected events keep tripping them up as they look to walk down the aisle together.\\\",\\\"Language\\\":\\\"English, Spanish\\\",\\\"Country\\\":\\\"USA, Japan\\\",\\\"Awards\\\":\\\"N/A\\\",\\\"Poster\\\":\\\"https://m.media-amazon.com/images/M/MV5BMTk3MDE1NTA3M15BMl5BanBnXkFtZTcwNDcwNTMxNw@@._V1_SX300.jpg\\\",\\\"Ratings\\\":[{\\\"Source\\\":\\\"Internet Movie Database\\\",\\\"Value\\\":\\\"6.2/10\\\"},{\\\"Source\\\":\\\"Rotten Tomatoes\\\",\\\"Value\\\":\\\"63%\\\"},{\\\"Source\\\":\\\"Metacritic\\\",\\\"Value\\\":\\\"62/100\\\"}],\\\"Metascore\\\":\\\"62\\\",\\\"imdbRating\\\":\\\"6.2\\\",\\\"imdbVotes\\\":\\\"85,940\\\",\\\"imdbID\\\":\\\"tt1195478\\\",\\\"Type\\\":\\\"movie\\\",\\\"DVD\\\":\\\"04 Sep 2012\\\",\\\"BoxOffice\\\":\\\"$28,644,770\\\",\\\"Production\\\":\\\"Universal Pictures\\\",\\\"Website\\\":\\\"http://www.thefiveyearengagementmovie.com/\\\",\\\"Response\\\":\\\"True\\\"}\",\n",
    "  \"https://tastedive.com/api/similark-249694-JazzComp-89VNLWSG_limit-5_q-Black Panther_type-movies\": \"{\\\"Similar\\\": {\\\"Info\\\": [{\\\"Name\\\": \\\"Black Panther\\\", \\\"Type\\\": \\\"movie\\\"}], \\\"Results\\\": [{\\\"Name\\\": \\\"Avengers: Infinity War\\\", \\\"Type\\\": \\\"movie\\\"}, {\\\"Name\\\": \\\"Captain Marvel\\\", \\\"Type\\\": \\\"movie\\\"}, {\\\"Name\\\": \\\"Ant-Man And The Wasp\\\", \\\"Type\\\": \\\"movie\\\"}, {\\\"Name\\\": \\\"The Fate Of The Furious\\\", \\\"Type\\\": \\\"movie\\\"}, {\\\"Name\\\": \\\"Deadpool 2\\\", \\\"Type\\\": \\\"movie\\\"}]}}\",\n",
    "  \"http://www.omdbapi.com/apikey-d9ef00e2_r-json_t-Baby Mama\": \"{\\\"Title\\\":\\\"Baby Mama\\\",\\\"Year\\\":\\\"2008\\\",\\\"Rated\\\":\\\"PG-13\\\",\\\"Released\\\":\\\"25 Apr 2008\\\",\\\"Runtime\\\":\\\"99 min\\\",\\\"Genre\\\":\\\"Comedy, Romance\\\",\\\"Director\\\":\\\"Michael McCullers\\\",\\\"Writer\\\":\\\"Michael McCullers\\\",\\\"Actors\\\":\\\"Amy Poehler, Tina Fey, Greg Kinnear, Dax Shepard\\\",\\\"Plot\\\":\\\"A successful, single businesswoman who dreams of having a baby discovers she is infertile and hires a working class woman to be her unlikely surrogate.\\\",\\\"Language\\\":\\\"English\\\",\\\"Country\\\":\\\"USA\\\",\\\"Awards\\\":\\\"1 win & 5 nominations.\\\",\\\"Poster\\\":\\\"https://m.media-amazon.com/images/M/MV5BMTYwNTc1Nzk1N15BMl5BanBnXkFtZTcwNjE4OTI2MQ@@._V1_SX300.jpg\\\",\\\"Ratings\\\":[{\\\"Source\\\":\\\"Internet Movie Database\\\",\\\"Value\\\":\\\"6.0/10\\\"},{\\\"Source\\\":\\\"Rotten Tomatoes\\\",\\\"Value\\\":\\\"64%\\\"},{\\\"Source\\\":\\\"Metacritic\\\",\\\"Value\\\":\\\"55/100\\\"}],\\\"Metascore\\\":\\\"55\\\",\\\"imdbRating\\\":\\\"6.0\\\",\\\"imdbVotes\\\":\\\"37,454\\\",\\\"imdbID\\\":\\\"tt0871426\\\",\\\"Type\\\":\\\"movie\\\",\\\"DVD\\\":\\\"09 Sep 2008\\\",\\\"BoxOffice\\\":\\\"$60,269,340\\\",\\\"Production\\\":\\\"Universal Pictures\\\",\\\"Website\\\":\\\"http://www.babymamamovie.net/\\\",\\\"Response\\\":\\\"True\\\"}\",\n",
    "  \"http://www.omdbapi.com/apikey-d9ef00e2_r-json_t-Bachelorette\": \"{\\\"Title\\\":\\\"Bachelorette\\\",\\\"Year\\\":\\\"2012\\\",\\\"Rated\\\":\\\"R\\\",\\\"Released\\\":\\\"06 Sep 2012\\\",\\\"Runtime\\\":\\\"87 min\\\",\\\"Genre\\\":\\\"Comedy, Romance\\\",\\\"Director\\\":\\\"Leslye Headland\\\",\\\"Writer\\\":\\\"Leslye Headland (screenplay), Leslye Headland (based on the play by)\\\",\\\"Actors\\\":\\\"Kirsten Dunst, Rebel Wilson, Lizzy Caplan, Paul Corning\\\",\\\"Plot\\\":\\\"Three friends are asked to be bridesmaids at a wedding of a woman they used to ridicule back in high school.\\\",\\\"Language\\\":\\\"English\\\",\\\"Country\\\":\\\"USA\\\",\\\"Awards\\\":\\\"1 win & 2 nominations.\\\",\\\"Poster\\\":\\\"https://m.media-amazon.com/images/M/MV5BZGQ1YjkyZGQtZDk0ZS00ZDgwLTlhYjgtNzQxNjkwMmQ0Mzk5XkEyXkFqcGdeQXVyMjA5MTIzMjQ@._V1_SX300.jpg\\\",\\\"Ratings\\\":[{\\\"Source\\\":\\\"Internet Movie Database\\\",\\\"Value\\\":\\\"5.3/10\\\"},{\\\"Source\\\":\\\"Rotten Tomatoes\\\",\\\"Value\\\":\\\"56%\\\"},{\\\"Source\\\":\\\"Metacritic\\\",\\\"Value\\\":\\\"53/100\\\"}],\\\"Metascore\\\":\\\"53\\\",\\\"imdbRating\\\":\\\"5.3\\\",\\\"imdbVotes\\\":\\\"42,043\\\",\\\"imdbID\\\":\\\"tt1920849\\\",\\\"Type\\\":\\\"movie\\\",\\\"DVD\\\":\\\"19 Mar 2013\\\",\\\"BoxOffice\\\":\\\"$400,000\\\",\\\"Production\\\":\\\"Radius-TWC\\\",\\\"Website\\\":\\\"http://www.facebook.com/bachelorettemovie\\\",\\\"Response\\\":\\\"True\\\"}\",\n",
    "  \"http://www.omdbapi.com/apikey-d9ef00e2_r-json_t-Inhumans\": \"{\\\"Title\\\":\\\"Inhumans\\\",\\\"Year\\\":\\\"2017\\\",\\\"Rated\\\":\\\"TV-PG\\\",\\\"Released\\\":\\\"29 Sep 2017\\\",\\\"Runtime\\\":\\\"43 min\\\",\\\"Genre\\\":\\\"Action, Adventure, Sci-Fi\\\",\\\"Director\\\":\\\"N/A\\\",\\\"Writer\\\":\\\"Scott Buck\\\",\\\"Actors\\\":\\\"Anson Mount, Serinda Swan, Ken Leung, Eme Ikwuakor\\\",\\\"Plot\\\":\\\"An isolated community of superhumans fight to protect themselves.\\\",\\\"Language\\\":\\\"English\\\",\\\"Country\\\":\\\"USA\\\",\\\"Awards\\\":\\\"N/A\\\",\\\"Poster\\\":\\\"https://m.media-amazon.com/images/M/MV5BZjI0ODcwODAtYzZjOS00ZmQ3LWE4ZGItOWMwYTI0Y2YyYWMyXkEyXkFqcGdeQXVyMzAzNTY3MDM@._V1_SX300.jpg\\\",\\\"Ratings\\\":[{\\\"Source\\\":\\\"Internet Movie Database\\\",\\\"Value\\\":\\\"5.1/10\\\"}],\\\"Metascore\\\":\\\"N/A\\\",\\\"imdbRating\\\":\\\"5.1\\\",\\\"imdbVotes\\\":\\\"17,590\\\",\\\"imdbID\\\":\\\"tt4154858\\\",\\\"Type\\\":\\\"series\\\",\\\"totalSeasons\\\":\\\"1\\\",\\\"Response\\\":\\\"True\\\"}\",\n",
    "  \"https://tastedive.com/api/similark-249694-JazzComp-89VNLWSG_limit-5_q-Tony Bennett_type-movies\": \"{\\\"Similar\\\": {\\\"Info\\\": [{\\\"Name\\\": \\\"Tony Bennett\\\", \\\"Type\\\": \\\"music\\\"}], \\\"Results\\\": [{\\\"Name\\\": \\\"A Place In The Sun\\\", \\\"Type\\\": \\\"movie\\\"}, {\\\"Name\\\": \\\"The Startup Kids\\\", \\\"Type\\\": \\\"movie\\\"}, {\\\"Name\\\": \\\"The Englishman Who Went Up A Hill But Came Down A Mountain\\\", \\\"Type\\\": \\\"movie\\\"}, {\\\"Name\\\": \\\"The Stand\\\", \\\"Type\\\": \\\"movie\\\"}, {\\\"Name\\\": \\\"The African Queen\\\", \\\"Type\\\": \\\"movie\\\"}]}}\",\n",
    "  \"https://tastedive.com/api/similark-249694-JazzComp-89VNLWSG_limit-5_q-Tony Bennett\": \"{\\\"Similar\\\": {\\\"Info\\\": [{\\\"Name\\\": \\\"Tony Bennett\\\", \\\"Type\\\": \\\"music\\\"}], \\\"Results\\\": [{\\\"Name\\\": \\\"Ricky Nelson\\\", \\\"Type\\\": \\\"music\\\"}, {\\\"Name\\\": \\\"Fred Astaire\\\", \\\"Type\\\": \\\"music\\\"}, {\\\"Name\\\": \\\"Natalie Cole\\\", \\\"Type\\\": \\\"music\\\"}, {\\\"Name\\\": \\\"Doris Day\\\", \\\"Type\\\": \\\"music\\\"}, {\\\"Name\\\": \\\"Perry Como\\\", \\\"Type\\\": \\\"music\\\"}]}}\",\n",
    "  \"https://tastedive.com/api/similark-249694-JazzComp-89VNLWSG_q-Black Panther\": \"{\\\"Similar\\\": {\\\"Info\\\": [{\\\"Name\\\": \\\"Black Panther\\\", \\\"Type\\\": \\\"movie\\\"}], \\\"Results\\\": [{\\\"Name\\\": \\\"Avengers: Infinity War\\\", \\\"Type\\\": \\\"movie\\\"}, {\\\"Name\\\": \\\"Captain Marvel\\\", \\\"Type\\\": \\\"movie\\\"}, {\\\"Name\\\": \\\"Ant-Man And The Wasp\\\", \\\"Type\\\": \\\"movie\\\"}, {\\\"Name\\\": \\\"The Fate Of The Furious\\\", \\\"Type\\\": \\\"movie\\\"}, {\\\"Name\\\": \\\"Deadpool 2\\\", \\\"Type\\\": \\\"movie\\\"}, {\\\"Name\\\": \\\"Ready Player One\\\", \\\"Type\\\": \\\"movie\\\"}, {\\\"Name\\\": \\\"Jumanji: Welcome To The Jungle\\\", \\\"Type\\\": \\\"movie\\\"}, {\\\"Name\\\": \\\"Solo: A Star Wars Story\\\", \\\"Type\\\": \\\"movie\\\"}, {\\\"Name\\\": \\\"Independence Day: Resurgence\\\", \\\"Type\\\": \\\"movie\\\"}, {\\\"Name\\\": \\\"Thor: Ragnarok\\\", \\\"Type\\\": \\\"movie\\\"}, {\\\"Name\\\": \\\"Pitch Perfect 3\\\", \\\"Type\\\": \\\"movie\\\"}, {\\\"Name\\\": \\\"Power Rangers\\\", \\\"Type\\\": \\\"movie\\\"}, {\\\"Name\\\": \\\"Ocean's 8\\\", \\\"Type\\\": \\\"movie\\\"}, {\\\"Name\\\": \\\"The Divergent Series: Allegiant\\\", \\\"Type\\\": \\\"movie\\\"}, {\\\"Name\\\": \\\"Daddy's Home 2\\\", \\\"Type\\\": \\\"movie\\\"}, {\\\"Name\\\": \\\"Black Lightning\\\", \\\"Type\\\": \\\"show\\\"}, {\\\"Name\\\": \\\"A Quiet Place\\\", \\\"Type\\\": \\\"movie\\\"}, {\\\"Name\\\": \\\"Game Night\\\", \\\"Type\\\": \\\"movie\\\"}, {\\\"Name\\\": \\\"The Cloverfield Paradox\\\", \\\"Type\\\": \\\"movie\\\"}, {\\\"Name\\\": \\\"Star Wars: The Last Jedi\\\", \\\"Type\\\": \\\"movie\\\"}]}}\"\n",
    "}\n",
    "Next Section - Copyright Notice\n",
    "user not logged in"
   ]
  },
  {
   "cell_type": "markdown",
   "metadata": {},
   "source": [
    "### Appendix 2"
   ]
  },
  {
   "cell_type": "markdown",
   "metadata": {},
   "source": [
    "#### The requests_with_caching module"
   ]
  },
  {
   "cell_type": "markdown",
   "metadata": {},
   "source": [
    "In this book, we are providing a special module, called request_with_caching.\n",
    "\n",
    "Here’s how you’ll use this module.\n",
    "\n",
    "Your code will include a statement to import the module, import requests_with_caching.\n",
    "Instead of invoking requests.get(), you’ll invoke requests_with_caching.get().\n",
    "You’ll get exactly the same Response object back that you would have gotten. But you’ll also get a printout in the output window with one of the following three diagnostic messages:\n",
    "\n",
    "found in permanent cache\n",
    "found in page-specific cache\n",
    "new; adding to cache\n",
    "The permanent cache is contained in a file that is built into the textbook. Your program can use its contents but can’t add to it.\n",
    "\n",
    "The page-specific cache is a new file that is created the first time you make a request for a url that wasn’t in the permanent cache. Each subsequent request for a new url results in more data being written to the page-specific cache. After you run an activecode that adds something to the page-specific cache, you’ll see a little window below it where you can inspect the contents of the page-specific cache. When you reload the webpage, that page-specific cache will be gone; hence the name.\n",
    "\n",
    "There are a couple of other optional parameters for the function requests_with_caching.get().\n",
    "\n",
    "cache_file– it’s value should be a string specifying the name of the file containing the permanent cache. If you don’t specify anything, the default value is “permanent_cache.txt”. For the datamuse API, we’ve provide a cache in a file called datamuse_cache.txt. It just contains the saved response to the query for “https://api.datamuse.com/words?rel_rhy=funny”.\n",
    "private_keys_to_ignore– its value should be a list of strings. These are keys from the parameters dictionary that should be ignored when deciding whether the current request matches a previous request. The main purpose of this is that it allows us to return a result from the cache for some REST APIs that would otherwise require you to provide an API key in order to make a request. By default, it is set to [“api_key”], which is a query parameter used with the flickr API. You should not need to set this optional parameter."
   ]
  },
  {
   "cell_type": "markdown",
   "metadata": {},
   "source": [
    "#### Implementation of the requests_with_caching module"
   ]
  },
  {
   "cell_type": "markdown",
   "metadata": {},
   "source": [
    "You may find it useful to understand how this module works. The source code is not very complicated; we’ve reproduced it below. You can use it as a template for implementing code for your own caching pattern in other settings."
   ]
  },
  {
   "cell_type": "markdown",
   "metadata": {},
   "source": [
    "Note\n",
    "\n",
    "We have optimized this code for conceptual simplicity, so that it is useful as a teaching tool. It is not very efficient, because it always stores cached contents in a file, rather than saving it in memory. If you are ever implementing the caching pattern just for the duration of a program’s run, you might want to save cached content in a python dictionary in memory rather than writing it to a file."
   ]
  },
  {
   "cell_type": "code",
   "execution_count": null,
   "metadata": {},
   "outputs": [],
   "source": [
    "import requests\n",
    "import json\n",
    "\n",
    "PERMANENT_CACHE_FNAME = \"permanent_cache.txt\"\n",
    "TEMP_CACHE_FNAME = \"this_page_cache.txt\"\n",
    "\n",
    "def _write_to_file(cache, fname):\n",
    "    with open(fname, 'w') as outfile:\n",
    "        outfile.write(json.dumps(cache, indent=2))\n",
    "\n",
    "def _read_from_file(fname):\n",
    "    try:\n",
    "        with open(fname, 'r') as infile:\n",
    "            res = infile.read()\n",
    "            return json.loads(res)\n",
    "    except:\n",
    "        return {}\n",
    "\n",
    "def add_to_cache(cache_file, cache_key, cache_value):\n",
    "    temp_cache = _read_from_file(cache_file)\n",
    "    temp_cache[cache_key] = cache_value\n",
    "    _write_to_file(temp_cache, cache_file)\n",
    "\n",
    "def clear_cache(cache_file=TEMP_CACHE_FNAME):\n",
    "    _write_to_file({}, cache_file)\n",
    "\n",
    "def make_cache_key(baseurl, params_d, private_keys=[\"api_key\"]):\n",
    "    \"\"\"Makes a long string representing the query.\n",
    "    Alphabetize the keys from the params dictionary so we get the same order each time.\n",
    "    Omit keys with private info.\"\"\"\n",
    "    alphabetized_keys = sorted(params_d.keys())\n",
    "    res = []\n",
    "    for k in alphabetized_keys:\n",
    "        if k not in private_keys:\n",
    "            res.append(\"{}-{}\".format(k, params_d[k]))\n",
    "    return baseurl + \"_\".join(res)\n",
    "\n",
    "def get(baseurl, params={}, private_keys_to_ignore=[\"api_key\"], permanent_cache_file=PERMANENT_CACHE_FNAME, temp_cache_file=TEMP_CACHE_FNAME):\n",
    "    full_url = requests.requestURL(baseurl, params)\n",
    "    cache_key = make_cache_key(baseurl, params, private_keys_to_ignore)\n",
    "    # Load the permanent and page-specific caches from files\n",
    "    permanent_cache = _read_from_file(permanent_cache_file)\n",
    "    temp_cache = _read_from_file(temp_cache_file)\n",
    "    if cache_key in temp_cache:\n",
    "        print(\"found in temp_cache\")\n",
    "        # make a Response object containing text from the change, and the full_url that would have been fetched\n",
    "        return requests.Response(temp_cache[cache_key], full_url)\n",
    "    elif cache_key in permanent_cache:\n",
    "        print(\"found in permanent_cache\")\n",
    "        # make a Response object containing text from the change, and the full_url that would have been fetched\n",
    "        return requests.Response(permanent_cache[cache_key], full_url)\n",
    "    else:\n",
    "        print(\"new; adding to cache\")\n",
    "        # actually request it\n",
    "        resp = requests.get(baseurl, params)\n",
    "        # save it\n",
    "        add_to_cache(temp_cache_file, cache_key, resp.text)\n",
    "        return resp"
   ]
  }
 ],
 "metadata": {
  "kernelspec": {
   "display_name": "Python 2",
   "language": "python",
   "name": "python2"
  },
  "language_info": {
   "codemirror_mode": {
    "name": "ipython",
    "version": 2
   },
   "file_extension": ".py",
   "mimetype": "text/x-python",
   "name": "python",
   "nbconvert_exporter": "python",
   "pygments_lexer": "ipython2",
   "version": "2.7.16"
  }
 },
 "nbformat": 4,
 "nbformat_minor": 2
}
